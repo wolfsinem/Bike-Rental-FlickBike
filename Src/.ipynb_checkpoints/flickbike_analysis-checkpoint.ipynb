{
 "cells": [
  {
   "cell_type": "markdown",
   "metadata": {},
   "source": [
    "# FlickBike - DIP\n",
    "---\n",
    "\n",
    "Voor deze opdracht werken we samen met FlickBike. FlickBike is een aanbieder van deelfietsen. Dat zijn fietsen die voor korte termijn, meestal een enkele rit, gehuurd kunnen worden door abonnees. In het geval van FlickBike mag je een fiets huren en achterlaten waar je maar wilt."
   ]
  },
  {
   "cell_type": "code",
   "execution_count": 25,
   "metadata": {},
   "outputs": [],
   "source": [
    "import warnings\n",
    "warnings.filterwarnings('ignore')\n",
    "\n",
    "import matplotlib.pylab as plt\n",
    "%matplotlib inline\n",
    "\n",
    "from statsmodels.graphics.tsaplots import plot_acf\n",
    "import pandas as pd\n",
    "import os"
   ]
  },
  {
   "cell_type": "markdown",
   "metadata": {},
   "source": [
    "#### Load data"
   ]
  },
  {
   "cell_type": "code",
   "execution_count": 6,
   "metadata": {},
   "outputs": [],
   "source": [
    "data = pd.read_csv((\"/Users/wolfsinem/distributed-processing/bike-rental-flickbike/data/bikes.csv\"))"
   ]
  },
  {
   "cell_type": "code",
   "execution_count": 7,
   "metadata": {},
   "outputs": [
    {
     "data": {
      "text/html": [
       "<div>\n",
       "<style scoped>\n",
       "    .dataframe tbody tr th:only-of-type {\n",
       "        vertical-align: middle;\n",
       "    }\n",
       "\n",
       "    .dataframe tbody tr th {\n",
       "        vertical-align: top;\n",
       "    }\n",
       "\n",
       "    .dataframe thead th {\n",
       "        text-align: right;\n",
       "    }\n",
       "</style>\n",
       "<table border=\"1\" class=\"dataframe\">\n",
       "  <thead>\n",
       "    <tr style=\"text-align: right;\">\n",
       "      <th></th>\n",
       "      <th>Unnamed: 0</th>\n",
       "      <th>tripid</th>\n",
       "      <th>userid</th>\n",
       "      <th>bikeid</th>\n",
       "      <th>account</th>\n",
       "      <th>bikenumber</th>\n",
       "      <th>start_time</th>\n",
       "      <th>end_time</th>\n",
       "      <th>start_lat</th>\n",
       "      <th>start_lng</th>\n",
       "      <th>end_lat</th>\n",
       "      <th>end_lng</th>\n",
       "      <th>date</th>\n",
       "    </tr>\n",
       "  </thead>\n",
       "  <tbody>\n",
       "    <tr>\n",
       "      <th>0</th>\n",
       "      <td>1</td>\n",
       "      <td>33838</td>\n",
       "      <td>13452</td>\n",
       "      <td>382</td>\n",
       "      <td>AR</td>\n",
       "      <td>6631000433</td>\n",
       "      <td>2019-01-01 06:46:03</td>\n",
       "      <td>2019-01-01 06:46:03</td>\n",
       "      <td>52.296065</td>\n",
       "      <td>4.787667</td>\n",
       "      <td>52.296200</td>\n",
       "      <td>4.787679</td>\n",
       "      <td>2019-01-01 06:46:00</td>\n",
       "    </tr>\n",
       "    <tr>\n",
       "      <th>1</th>\n",
       "      <td>2</td>\n",
       "      <td>33839</td>\n",
       "      <td>13452</td>\n",
       "      <td>812</td>\n",
       "      <td>AR</td>\n",
       "      <td>6631000146</td>\n",
       "      <td>2019-01-01 06:47:39</td>\n",
       "      <td>2019-01-01 06:47:39</td>\n",
       "      <td>52.295938</td>\n",
       "      <td>4.788336</td>\n",
       "      <td>52.295940</td>\n",
       "      <td>4.788557</td>\n",
       "      <td>2019-01-01 06:47:35</td>\n",
       "    </tr>\n",
       "    <tr>\n",
       "      <th>2</th>\n",
       "      <td>3</td>\n",
       "      <td>33851</td>\n",
       "      <td>13182</td>\n",
       "      <td>238</td>\n",
       "      <td>AR</td>\n",
       "      <td>6631000443</td>\n",
       "      <td>2019-01-01 14:15:36</td>\n",
       "      <td>2019-01-01 14:15:36</td>\n",
       "      <td>52.307337</td>\n",
       "      <td>4.807633</td>\n",
       "      <td>52.307336</td>\n",
       "      <td>4.807630</td>\n",
       "      <td>2019-01-01 14:15:32</td>\n",
       "    </tr>\n",
       "    <tr>\n",
       "      <th>3</th>\n",
       "      <td>4</td>\n",
       "      <td>33852</td>\n",
       "      <td>13182</td>\n",
       "      <td>238</td>\n",
       "      <td>AR</td>\n",
       "      <td>6631000443</td>\n",
       "      <td>2019-01-01 14:33:50</td>\n",
       "      <td>2019-01-01 14:33:50</td>\n",
       "      <td>52.308478</td>\n",
       "      <td>4.809970</td>\n",
       "      <td>52.308537</td>\n",
       "      <td>4.810099</td>\n",
       "      <td>2019-01-01 14:33:46</td>\n",
       "    </tr>\n",
       "    <tr>\n",
       "      <th>4</th>\n",
       "      <td>5</td>\n",
       "      <td>33867</td>\n",
       "      <td>12674</td>\n",
       "      <td>787</td>\n",
       "      <td>AG</td>\n",
       "      <td>6631000283</td>\n",
       "      <td>2019-01-01 20:11:05</td>\n",
       "      <td>2019-01-01 20:11:05</td>\n",
       "      <td>52.506522</td>\n",
       "      <td>4.727323</td>\n",
       "      <td>52.506809</td>\n",
       "      <td>4.732135</td>\n",
       "      <td>2019-01-01 20:11:01</td>\n",
       "    </tr>\n",
       "  </tbody>\n",
       "</table>\n",
       "</div>"
      ],
      "text/plain": [
       "   Unnamed: 0  tripid  userid  bikeid account  bikenumber  \\\n",
       "0           1   33838   13452     382      AR  6631000433   \n",
       "1           2   33839   13452     812      AR  6631000146   \n",
       "2           3   33851   13182     238      AR  6631000443   \n",
       "3           4   33852   13182     238      AR  6631000443   \n",
       "4           5   33867   12674     787      AG  6631000283   \n",
       "\n",
       "            start_time             end_time  start_lat  start_lng    end_lat  \\\n",
       "0  2019-01-01 06:46:03  2019-01-01 06:46:03  52.296065   4.787667  52.296200   \n",
       "1  2019-01-01 06:47:39  2019-01-01 06:47:39  52.295938   4.788336  52.295940   \n",
       "2  2019-01-01 14:15:36  2019-01-01 14:15:36  52.307337   4.807633  52.307336   \n",
       "3  2019-01-01 14:33:50  2019-01-01 14:33:50  52.308478   4.809970  52.308537   \n",
       "4  2019-01-01 20:11:05  2019-01-01 20:11:05  52.506522   4.727323  52.506809   \n",
       "\n",
       "    end_lng                 date  \n",
       "0  4.787679  2019-01-01 06:46:00  \n",
       "1  4.788557  2019-01-01 06:47:35  \n",
       "2  4.807630  2019-01-01 14:15:32  \n",
       "3  4.810099  2019-01-01 14:33:46  \n",
       "4  4.732135  2019-01-01 20:11:01  "
      ]
     },
     "execution_count": 7,
     "metadata": {},
     "output_type": "execute_result"
    }
   ],
   "source": [
    "data.head()"
   ]
  },
  {
   "cell_type": "markdown",
   "metadata": {},
   "source": [
    "#### Convert column date and start/end time to Datetime"
   ]
  },
  {
   "cell_type": "code",
   "execution_count": 9,
   "metadata": {},
   "outputs": [
    {
     "data": {
      "text/plain": [
       "str"
      ]
     },
     "execution_count": 9,
     "metadata": {},
     "output_type": "execute_result"
    }
   ],
   "source": [
    "type(list(data['date'].values)[0])"
   ]
  },
  {
   "cell_type": "code",
   "execution_count": 19,
   "metadata": {},
   "outputs": [],
   "source": [
    "data['date'] = pd.to_datetime(data['date'],format=\"%Y-%m-%d\")\n",
    "\n",
    "data['start_time'] = pd.to_datetime(data['start_time'],format=\"%Y/%m/%d %H:%M:%S\")\n",
    "data['end_time'] = pd.to_datetime(data['end_time'],format=\"%Y/%m/%d %H:%M:%S\")"
   ]
  },
  {
   "cell_type": "markdown",
   "metadata": {},
   "source": [
    "#### Plot graph"
   ]
  },
  {
   "cell_type": "code",
   "execution_count": 13,
   "metadata": {
    "scrolled": true
   },
   "outputs": [
    {
     "data": {
      "image/png": "[encoded data removed]",
      "text/plain": [
       "<Figure size 432x288 with 1 Axes>"
      ]
     },
     "metadata": {
      "needs_background": "light"
     },
     "output_type": "display_data"
    }
   ],
   "source": [
    "tijden = data.sort_values(by=['date'])\n",
    "\n",
    "plt.plot(data['date'])\n",
    "plt.show()"
   ]
  },
  {
   "cell_type": "code",
   "execution_count": 23,
   "metadata": {},
   "outputs": [],
   "source": [
    "start_time = data['start_time']\n",
    "end_time = data['end_time']\n",
    "\n",
    "total_duration = end_time - start_time"
   ]
  },
  {
   "cell_type": "code",
   "execution_count": 28,
   "metadata": {},
   "outputs": [
    {
     "data": {
      "image/png": "[encoded data removed]",
      "text/plain": [
       "<Figure size 432x288 with 1 Axes>"
      ]
     },
     "execution_count": 28,
     "metadata": {},
     "output_type": "execute_result"
    },
    {
     "data": {
      "image/png": "[encoded data removed]",
      "text/plain": [
       "<Figure size 432x288 with 1 Axes>"
      ]
     },
     "metadata": {
      "needs_background": "light"
     },
     "output_type": "display_data"
    }
   ],
   "source": [
    "plot_acf(total_duration)"
   ]
  }
 ],
 "metadata": {
  "kernelspec": {
   "display_name": "Python 3.8.0 64-bit",
   "language": "python",
   "name": "python38064bit159108b3a1084e30bae43b4afa6f96dc"
  },
  "language_info": {
   "codemirror_mode": {
    "name": "ipython",
    "version": 3
   },
   "file_extension": ".py",
   "mimetype": "text/x-python",
   "name": "python",
   "nbconvert_exporter": "python",
   "pygments_lexer": "ipython3",
   "version": "3.8.0"
  }
 },
 "nbformat": 4,
 "nbformat_minor": 2
}
