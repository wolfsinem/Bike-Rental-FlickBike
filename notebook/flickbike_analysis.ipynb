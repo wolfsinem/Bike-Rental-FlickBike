{
 "cells": [
  {
   "cell_type": "markdown",
   "metadata": {},
   "source": [
    "# FlickBike - Distributed Processing (DIP)\n",
    "---\n",
    "\n",
    "Voor deze opdracht werken we samen met FlickBike. FlickBike is een aanbieder van deelfietsen. Dat zijn fietsen die voor korte termijn, meestal een enkele rit, gehuurd kunnen worden door abonnees. In het geval van FlickBike mag je een fiets huren en achterlaten waar je maar wilt.\n",
    "\n",
    "---\n",
    "\n",
    "### Verkenning van de analyse: vragen\n",
    "\n",
    "---\n",
    "- __1 Hoe bereken je  de groei van FlickBike? In het bijzonder: hoe voorspel je het aantal verhuurde fietsen op de dagen tussen 10 december 2019 en 31 januari 2019?__ \n",
    "    - Data begint op 1 januari 2019\n",
    "    - Data eindigt op 9 december 2019\n",
    "    - Door een correlatie test uit te voeren kun je erachter komen of er bepaalde parameters zijn die een sterke correlatie hebben\n",
    "    - Door lineaire regressie toe te passen zou je voor de toekomstige dagen kunnen voorspellen hoeveel fietsen er zullen worden gehuurd op basis van de oude datapunten.\n",
    "    \n",
    "    \n",
    "    \n",
    "\n",
    "---\n",
    "\n",
    "- __2 Welke invloeden verwacht je van, en op welke manier kun je je model gevoelig maken voor:__ \n",
    "     - __*Het weer.*__\n",
    "         - Weer heeft veel invloed op het gebruik van deze FlickBikes omdat mensen natuurlijk met slecht weer, denk hierbij aan regen, minder snel/helemaal niet de fiets nemen. Als het goed weer is heeft het bijvoorbeeld wel een positief effect en nemen mensen sneller de fiets. Hoewel ik met alle weersomstandigheden het niet aanraad om te fietsen in Amsterdam. \n",
    "     - __*De dag van de week.*__\n",
    "         - Doordeweeks is een groot deel van de mensen aan het werk waardoor deze fietsen niet voor persoonlijk gebruik worden gebruikt. In het weekend zijn meer mensen vrij.  Dan kun je zeggen, ze gaan op stap en nemen een huurfiets, of ze blijven juist thuis. \n",
    "     - __*Bijzondere dagen in het jaar, zoals feestdagen, schoolvakanties, etc.*__\n",
    "         - Met bepaalde feestdagen, denk aan Pasen, zijn mensen niet snel buiten omdat ze met familie thuis zijn. Zo is dat ook vaker met andere feestdagen omdat buiten de winkels ook dicht zijn etc.  \n",
    "     - __*Eventueel andere factoren.*__\n",
    "         - Als benzineprijzen omhoog springen gaan mensen minder snel tanken, en nemen eerder alternatief vervoer. \n",
    "\n",
    "---\n",
    "\n",
    "- __3 Hoe kan, op basis van data, worden voorspeld waar er tekorten van fietsen dreigen te ontstaan en hoe de fietsen het beste zo kunnen worden verplaatst dat ze zowel over het hele terrein van Schiphol-Oost beschikbaar zijn en tegelijkertijd vooral beschikbaar zijn op plaatsen waar het regelmatig druk is?__  \n",
    "\n",
    "    - Ten eerste kijk je waarde 'hotspots' zijn, dus waar de fietsen het meest worden gebruikt.\n",
    "    - Bekijk hiervoor in welke buurt de 'start-lan' parameter het meeste voorkomt.\n",
    "    - Ten tweede kijk je waarde de minst drukke plekken zijn waar 'start-lan' voorkomt. Het is handig om op deze plekken juist fietsen beschikbaar te stellen\n",
    "    - Doe dit hetzelfde voor de 'end-lan'\n",
    "---\n",
    "- __4 Hoe kun je berekenen met hoeveel fietsen zou FlickBike minimaal kunnen werken, zodanig dat te verwachten pieken op te vangen zijn?__\n",
    "\n",
    "    - Bekijk met de huidige dataset op welke dag het 't drukst was maar ook wat het gemiddelde per dag is. Door iets boven het gemiddelde uit te komen zorg je ervoor dat de meeste mensen sowieso in bezit kunnen zijn van een huurfiets\n",
    "       - Onderscheid houden tussen hotspot met gemiddeld 1 fiets en een hotspot met bv 40 fietsen\n",
    "---\n",
    "\n",
    "- __5 Hoe ga je de antwoorden op vragen (1)-(4) visualiseren? Geef voorbeelden!__\n",
    "    - vraag 1: per dag (x-as) aantal verhuurde fietsen (y-as) visualiseren. \n",
    "    - vraag 2: correlatie test uitvoeren (data.corr())\n",
    "    - vraag 3: een interactieve map waarin alle fietsen zichtbaar zijn \n",
    "    - vraag 4: simpele plot zoals vraag 1 "
   ]
  },
  {
   "cell_type": "markdown",
   "metadata": {},
   "source": [
    "#### Data dictionary\n",
    "\n",
    "---\n",
    "\n",
    "- __Account__ = business\n",
    "- __Bikeid__ = intern gebruik\n",
    "- __Bikenumber__ = zichtbaar op fietsen (QR-CODE)\n",
    "- __Date__ = moment van invoering in database\n",
    "- __Start_time__ = start van sessie\n",
    "- __End_time__ = einde van sessie\n",
    "\n",
    "---\n",
    "- __test.csv__ = fietsverhuur tussen 1-11-2019 en 20-12-2019\n",
    "- __train.csv__ = fietsverhuur voor 1-11-2019. Wordt gebruikt om voorspellingen te maken voor de dagen die hierop volgen\n",
    "---"
   ]
  },
  {
   "cell_type": "markdown",
   "metadata": {},
   "source": [
    "#### Import libraries "
   ]
  },
  {
   "cell_type": "code",
   "execution_count": 1,
   "metadata": {},
   "outputs": [],
   "source": [
    "import warnings\n",
    "warnings.filterwarnings('ignore')\n",
    "\n",
    "import matplotlib.pyplot as plt\n",
    "%matplotlib inline\n",
    "\n",
    "from statsmodels.graphics.tsaplots import plot_acf\n",
    "import pandas as pd\n",
    "import seaborn as sns\n",
    "import numpy as np\n",
    "\n",
    "import sys\n",
    "sys.path.append('/Users/wolfsinem/Distributed-Processing/Bike-Rental-FlickBike')\n",
    "from knmi import weather_temp_HH, weather_temp_DD"
   ]
  },
  {
   "cell_type": "markdown",
   "metadata": {},
   "source": [
    "#### Load data"
   ]
  },
  {
   "cell_type": "code",
   "execution_count": 2,
   "metadata": {},
   "outputs": [],
   "source": [
    "df = pd.read_csv((\"/Users/wolfsinem/flick_data/bikes.csv\"))"
   ]
  },
  {
   "cell_type": "code",
   "execution_count": 3,
   "metadata": {},
   "outputs": [
    {
     "data": {
      "text/html": [
       "<div>\n",
       "<style scoped>\n",
       "    .dataframe tbody tr th:only-of-type {\n",
       "        vertical-align: middle;\n",
       "    }\n",
       "\n",
       "    .dataframe tbody tr th {\n",
       "        vertical-align: top;\n",
       "    }\n",
       "\n",
       "    .dataframe thead th {\n",
       "        text-align: right;\n",
       "    }\n",
       "</style>\n",
       "<table border=\"1\" class=\"dataframe\">\n",
       "  <thead>\n",
       "    <tr style=\"text-align: right;\">\n",
       "      <th></th>\n",
       "      <th>Unnamed: 0</th>\n",
       "      <th>tripid</th>\n",
       "      <th>userid</th>\n",
       "      <th>bikeid</th>\n",
       "      <th>account</th>\n",
       "      <th>bikenumber</th>\n",
       "      <th>start_time</th>\n",
       "      <th>end_time</th>\n",
       "      <th>start_lat</th>\n",
       "      <th>start_lng</th>\n",
       "      <th>end_lat</th>\n",
       "      <th>end_lng</th>\n",
       "      <th>date</th>\n",
       "    </tr>\n",
       "  </thead>\n",
       "  <tbody>\n",
       "    <tr>\n",
       "      <th>0</th>\n",
       "      <td>1</td>\n",
       "      <td>33838</td>\n",
       "      <td>13452</td>\n",
       "      <td>382</td>\n",
       "      <td>AR</td>\n",
       "      <td>6631000433</td>\n",
       "      <td>2019-01-01 06:46:03</td>\n",
       "      <td>2019-01-01 06:46:03</td>\n",
       "      <td>52.296065</td>\n",
       "      <td>4.787667</td>\n",
       "      <td>52.296200</td>\n",
       "      <td>4.787679</td>\n",
       "      <td>2019-01-01 06:46:00</td>\n",
       "    </tr>\n",
       "    <tr>\n",
       "      <th>1</th>\n",
       "      <td>2</td>\n",
       "      <td>33839</td>\n",
       "      <td>13452</td>\n",
       "      <td>812</td>\n",
       "      <td>AR</td>\n",
       "      <td>6631000146</td>\n",
       "      <td>2019-01-01 06:47:39</td>\n",
       "      <td>2019-01-01 06:47:39</td>\n",
       "      <td>52.295938</td>\n",
       "      <td>4.788336</td>\n",
       "      <td>52.295940</td>\n",
       "      <td>4.788557</td>\n",
       "      <td>2019-01-01 06:47:35</td>\n",
       "    </tr>\n",
       "    <tr>\n",
       "      <th>2</th>\n",
       "      <td>3</td>\n",
       "      <td>33851</td>\n",
       "      <td>13182</td>\n",
       "      <td>238</td>\n",
       "      <td>AR</td>\n",
       "      <td>6631000443</td>\n",
       "      <td>2019-01-01 14:15:36</td>\n",
       "      <td>2019-01-01 14:15:36</td>\n",
       "      <td>52.307337</td>\n",
       "      <td>4.807633</td>\n",
       "      <td>52.307336</td>\n",
       "      <td>4.807630</td>\n",
       "      <td>2019-01-01 14:15:32</td>\n",
       "    </tr>\n",
       "    <tr>\n",
       "      <th>3</th>\n",
       "      <td>4</td>\n",
       "      <td>33852</td>\n",
       "      <td>13182</td>\n",
       "      <td>238</td>\n",
       "      <td>AR</td>\n",
       "      <td>6631000443</td>\n",
       "      <td>2019-01-01 14:33:50</td>\n",
       "      <td>2019-01-01 14:33:50</td>\n",
       "      <td>52.308478</td>\n",
       "      <td>4.809970</td>\n",
       "      <td>52.308537</td>\n",
       "      <td>4.810099</td>\n",
       "      <td>2019-01-01 14:33:46</td>\n",
       "    </tr>\n",
       "    <tr>\n",
       "      <th>4</th>\n",
       "      <td>5</td>\n",
       "      <td>33867</td>\n",
       "      <td>12674</td>\n",
       "      <td>787</td>\n",
       "      <td>AG</td>\n",
       "      <td>6631000283</td>\n",
       "      <td>2019-01-01 20:11:05</td>\n",
       "      <td>2019-01-01 20:11:05</td>\n",
       "      <td>52.506522</td>\n",
       "      <td>4.727323</td>\n",
       "      <td>52.506809</td>\n",
       "      <td>4.732135</td>\n",
       "      <td>2019-01-01 20:11:01</td>\n",
       "    </tr>\n",
       "  </tbody>\n",
       "</table>\n",
       "</div>"
      ],
      "text/plain": [
       "   Unnamed: 0  tripid  userid  bikeid account  bikenumber  \\\n",
       "0           1   33838   13452     382      AR  6631000433   \n",
       "1           2   33839   13452     812      AR  6631000146   \n",
       "2           3   33851   13182     238      AR  6631000443   \n",
       "3           4   33852   13182     238      AR  6631000443   \n",
       "4           5   33867   12674     787      AG  6631000283   \n",
       "\n",
       "            start_time             end_time  start_lat  start_lng    end_lat  \\\n",
       "0  2019-01-01 06:46:03  2019-01-01 06:46:03  52.296065   4.787667  52.296200   \n",
       "1  2019-01-01 06:47:39  2019-01-01 06:47:39  52.295938   4.788336  52.295940   \n",
       "2  2019-01-01 14:15:36  2019-01-01 14:15:36  52.307337   4.807633  52.307336   \n",
       "3  2019-01-01 14:33:50  2019-01-01 14:33:50  52.308478   4.809970  52.308537   \n",
       "4  2019-01-01 20:11:05  2019-01-01 20:11:05  52.506522   4.727323  52.506809   \n",
       "\n",
       "    end_lng                 date  \n",
       "0  4.787679  2019-01-01 06:46:00  \n",
       "1  4.788557  2019-01-01 06:47:35  \n",
       "2  4.807630  2019-01-01 14:15:32  \n",
       "3  4.810099  2019-01-01 14:33:46  \n",
       "4  4.732135  2019-01-01 20:11:01  "
      ]
     },
     "execution_count": 3,
     "metadata": {},
     "output_type": "execute_result"
    }
   ],
   "source": [
    "df.head()"
   ]
  },
  {
   "cell_type": "markdown",
   "metadata": {},
   "source": [
    "#### Convert column date and start/end time to datetime"
   ]
  },
  {
   "cell_type": "code",
   "execution_count": 4,
   "metadata": {},
   "outputs": [],
   "source": [
    "df['date'] = pd.to_datetime(df['date'])\n",
    "df['start_time'] = pd.to_datetime(df['start_time'])\n",
    "df['end_time'] = pd.to_datetime(df['end_time'])"
   ]
  },
  {
   "cell_type": "code",
   "execution_count": 5,
   "metadata": {},
   "outputs": [
    {
     "data": {
      "text/plain": [
       "numpy.datetime64"
      ]
     },
     "execution_count": 5,
     "metadata": {},
     "output_type": "execute_result"
    }
   ],
   "source": [
    "type(list(df['date'].values)[0])"
   ]
  },
  {
   "cell_type": "code",
   "execution_count": 6,
   "metadata": {},
   "outputs": [],
   "source": [
    "df['fixed_date'] = pd.to_datetime(df['date']).dt.date # remove time of datetime variable"
   ]
  },
  {
   "cell_type": "markdown",
   "metadata": {},
   "source": [
    "#### Add extra columns "
   ]
  },
  {
   "cell_type": "code",
   "execution_count": 7,
   "metadata": {},
   "outputs": [],
   "source": [
    "df['month'] = df['date'].apply(lambda time: time.month) \n",
    "df['hour'] = df['date'].apply(lambda time: time.hour)\n",
    "df['day'] = df['date'].apply(lambda time: time.dayofweek)"
   ]
  },
  {
   "cell_type": "markdown",
   "metadata": {},
   "source": [
    "### Opdracht: Data van fietsverhuur\n",
    "---\n",
    "\n",
    "#### Vraag 1: produceer een plot van verhuur-per-dag voor deze dataset"
   ]
  },
  {
   "cell_type": "code",
   "execution_count": null,
   "metadata": {
    "scrolled": false
   },
   "outputs": [],
   "source": [
    "# variable consists of index(date) and values(amount)\n",
    "group_date = df['date'].groupby(df.date.dt.floor('d')).count()\n",
    "# group_date = df.groupby(df.date.dt.date)[\"tripid\"].sum() # tripid or bikeid etc?? \n",
    "\n",
    "# plot rental per day\n",
    "plt.figure(figsize=(20,10))\n",
    "sns.barplot(group_date.index, group_date.values, alpha=0.8)\n",
    "plt.title('Rental FlickBike per day')\n",
    "plt.ylabel('Number of rentals', fontsize=12)\n",
    "plt.xlabel('Day', fontsize=12)\n",
    "# plt.locator_params(axis='x', nbins=12) # tick values will be places incorrectly, fix this\n",
    "plt.show()"
   ]
  },
  {
   "cell_type": "code",
   "execution_count": null,
   "metadata": {},
   "outputs": [],
   "source": [
    "group_date"
   ]
  },
  {
   "cell_type": "markdown",
   "metadata": {},
   "source": [
    "#### Vraag 2: wat is de periodiciteit van deze dataset?"
   ]
  },
  {
   "cell_type": "code",
   "execution_count": null,
   "metadata": {},
   "outputs": [],
   "source": [
    "plot_acf(group_date.values)\n",
    "plt.show()"
   ]
  },
  {
   "cell_type": "markdown",
   "metadata": {},
   "source": [
    "###### onderbouwing plot"
   ]
  },
  {
   "cell_type": "markdown",
   "metadata": {},
   "source": [
    "#### Add external data for holidays (2019)\n",
    "\n",
    "---\n",
    "Source: https://kalender-nederland.nl/feestdagen-2019/ "
   ]
  },
  {
   "cell_type": "code",
   "execution_count": null,
   "metadata": {},
   "outputs": [],
   "source": [
    "national_holidays = pd.read_csv((\"/Users/wolfsinem/distributed-processing/bike-rental-flickbike/data/Nationale Feestdagen.csv\"))\n",
    "other_holidays = pd.read_csv((\"/Users/wolfsinem/distributed-processing/bike-rental-flickbike/data/Overige Feestdagen.csv\"))"
   ]
  },
  {
   "cell_type": "code",
   "execution_count": null,
   "metadata": {},
   "outputs": [],
   "source": [
    "all_holidays = pd.concat([national_holidays,other_holidays]).reset_index(drop=True)\n",
    "all_holidays['Datum'] = pd.to_datetime(all_holidays['Datum'])\n",
    "all_holidays['Datum'] = all_holidays['Datum'].dt.date"
   ]
  },
  {
   "cell_type": "code",
   "execution_count": null,
   "metadata": {},
   "outputs": [],
   "source": [
    "all_holidays"
   ]
  },
  {
   "cell_type": "markdown",
   "metadata": {},
   "source": [
    "#### Merge holidays with original dataset 'df'\n",
    "---\n",
    "\n",
    "By doing so you can check if bikes were hired on a holiday.\n",
    "As you can see there were only __1975__ (3.9%) times bikes were hired on a holiday compared to __48402__ (96%) bikes on a regular day.\n",
    "\n",
    "---"
   ]
  },
  {
   "cell_type": "code",
   "execution_count": null,
   "metadata": {},
   "outputs": [],
   "source": [
    "check_holiday = df['date'].dt.date.isin(all_holidays.Datum)\n",
    "check_holiday.value_counts(normalize=True)"
   ]
  },
  {
   "cell_type": "code",
   "execution_count": null,
   "metadata": {},
   "outputs": [],
   "source": [
    "# df[df['date'].dt.date.isin(all_holidays.Datum)].head()\n",
    "df['holiday'] = check_holiday"
   ]
  },
  {
   "cell_type": "markdown",
   "metadata": {},
   "source": [
    "#### Add Dutch weather data from KNMI \n",
    "\n",
    "Easier way to directly download the data in txt format: https://projects.knmi.nl/klimatologie/uurgegevens/selectie.cgi \n",
    "\n",
    "---\n",
    "- STN = station (240 = schiphol)\n",
    "- HH = uur\n",
    "- T = temperatuur (in 0.1 graden Celsius) op 1.50 m hoogte tijdens de waarneming\n",
    "- T10N = minimumtemperatuur (in 0.1 graden Celsius) op 10 cm hoogte in de afgelopen 6 uur\n",
    "- TD = dauwpuntstemperatuur (in 0.1 graden Celsius) op 1.50 m hoogte tijdens de waarneming\n",
    "        Het dauwpunt is de temperatuur waarbij de lucht met waterdamp verzadigd is, zodat er wolkenvorming of dauwvorming optreedt zodra de temperatuur bij gelijkblijvende dampdruk daalt.\n",
    "\n",
    "Source: https://www.knmi.nl/kennis-en-datacentrum/achtergrond/data-ophalen-vanuit-een-script\n",
    "\n",
    "---"
   ]
  },
  {
   "cell_type": "code",
   "execution_count": null,
   "metadata": {},
   "outputs": [],
   "source": [
    "df_temp = weather_temp_DD()\n",
    "\n",
    "df_temp.reset_index(inplace=True) # reset index\n",
    "df_temp.rename(columns={'YYYYMMDD': 'fixed_date'},inplace=True) # rename column YYYYMMDD to date\n",
    "df_temp['fixed_date'] = pd.to_datetime(df_temp['fixed_date']).dt.date"
   ]
  },
  {
   "cell_type": "code",
   "execution_count": null,
   "metadata": {},
   "outputs": [],
   "source": [
    "df_temp['TG'] = df_temp['TG'] * 0.1\n",
    "df_temp['TN'] = df_temp['TN'] * 0.1\n",
    "df_temp['TX'] = df_temp['TX'] * 0.1\n",
    "df_temp['TXH'] = df_temp['TXH'] * 0.1\n",
    "df_temp.head()"
   ]
  },
  {
   "cell_type": "code",
   "execution_count": null,
   "metadata": {},
   "outputs": [],
   "source": [
    "df = pd.merge(df, df_temp, on=['fixed_date'])"
   ]
  },
  {
   "cell_type": "markdown",
   "metadata": {},
   "source": [
    "#### Correlation between all columns"
   ]
  },
  {
   "cell_type": "code",
   "execution_count": null,
   "metadata": {},
   "outputs": [],
   "source": [
    "sns.heatmap(df.corr())\n",
    "plt.show()"
   ]
  },
  {
   "cell_type": "markdown",
   "metadata": {},
   "source": [
    "#### Add new column to dataframe with total duration"
   ]
  },
  {
   "cell_type": "code",
   "execution_count": null,
   "metadata": {},
   "outputs": [],
   "source": [
    "start_time = df['start_time']\n",
    "end_time = df['end_time']\n",
    "\n",
    "delta_duration = end_time - start_time\n",
    "df['total_duration'] = delta_duration"
   ]
  },
  {
   "cell_type": "code",
   "execution_count": null,
   "metadata": {},
   "outputs": [],
   "source": [
    "df['total_duration'].value_counts(bins=2)"
   ]
  },
  {
   "cell_type": "markdown",
   "metadata": {},
   "source": [
    "#### Add count column which tells how many bikes were hired on that date"
   ]
  },
  {
   "cell_type": "code",
   "execution_count": null,
   "metadata": {},
   "outputs": [],
   "source": [
    "count = pd.DataFrame(data=group_date).rename_axis('fixed_date').reset_index()\n",
    "count.rename(columns={'date': 'count'},inplace=True)\n",
    "count['fixed_date'] = pd.to_datetime(count['fixed_date']).dt.date"
   ]
  },
  {
   "cell_type": "code",
   "execution_count": null,
   "metadata": {},
   "outputs": [],
   "source": [
    "df = pd.merge(df,count, on=['fixed_date'])"
   ]
  },
  {
   "cell_type": "markdown",
   "metadata": {},
   "source": [
    "#### Influence of day of week\n",
    "---\n",
    "\n",
    "I will check here if a day in a week has influence on the amount of bikes that are being hired, whereas 0 is __sunday__ and 6 is __saturday__ (check of dit klopt, misschien begint het gewoon vanaf maandag)\n",
    "\n",
    "---"
   ]
  },
  {
   "cell_type": "code",
   "execution_count": null,
   "metadata": {},
   "outputs": [],
   "source": [
    "day_of_week = df['date'].apply(lambda time: time.dayofweek).value_counts()"
   ]
  },
  {
   "cell_type": "code",
   "execution_count": null,
   "metadata": {
    "scrolled": true
   },
   "outputs": [],
   "source": [
    "x = day_of_week.index\n",
    "y = day_of_week.values\n",
    "plt.bar(x,y)\n",
    "plt.xlabel('Day of week')\n",
    "plt.ylabel('Total bikes hired')\n",
    "plt.show()"
   ]
  },
  {
   "cell_type": "markdown",
   "metadata": {},
   "source": [
    "#### Influence of hour of day\n",
    "\n",
    "--- \n",
    "\n",
    "I will check here if an hour in a day has influence on the amount of bikes that are being hired.\n",
    "\n",
    "Most of the bikes are hired from 8 in the morning till 5.\n",
    "\n",
    "---"
   ]
  },
  {
   "cell_type": "code",
   "execution_count": null,
   "metadata": {},
   "outputs": [],
   "source": [
    "hour_in_day = df['date'].apply(lambda time: time.hour).value_counts()"
   ]
  },
  {
   "cell_type": "code",
   "execution_count": null,
   "metadata": {},
   "outputs": [],
   "source": [
    "x = hour_in_day.index\n",
    "y = hour_in_day.values\n",
    "plt.bar(x,y)\n",
    "plt.xlabel('Hour')\n",
    "plt.ylabel('Total bikes hired')\n",
    "plt.show()"
   ]
  },
  {
   "cell_type": "markdown",
   "metadata": {},
   "source": [
    "#### Influence of month\n",
    "\n",
    "--- \n",
    "I will check here if a month in a year has influence on the amount of bikes that are being hired\n",
    "\n",
    "Most of the bikes were hired in July __-->__ summertime\n",
    "\n",
    "--- "
   ]
  },
  {
   "cell_type": "code",
   "execution_count": null,
   "metadata": {},
   "outputs": [],
   "source": [
    "month_of_year = df['date'].apply(lambda time: time.month).value_counts()"
   ]
  },
  {
   "cell_type": "code",
   "execution_count": null,
   "metadata": {
    "scrolled": true
   },
   "outputs": [],
   "source": [
    "x = month_of_year.index\n",
    "y = month_of_year.values\n",
    "plt.bar(x,y)\n",
    "plt.xlabel('Month')\n",
    "plt.ylabel('Total bikes hired')\n",
    "plt.show()"
   ]
  },
  {
   "cell_type": "markdown",
   "metadata": {},
   "source": [
    "### Final dataframe"
   ]
  },
  {
   "cell_type": "code",
   "execution_count": null,
   "metadata": {},
   "outputs": [],
   "source": [
    "df.columns"
   ]
  },
  {
   "cell_type": "code",
   "execution_count": null,
   "metadata": {},
   "outputs": [],
   "source": [
    "df_final = df.drop(columns=['Unnamed: 0','tripid','userid','bikeid','account','bikenumber','start_lat','start_lng','end_lat','end_lng','start_time','end_time','STN','date'])"
   ]
  },
  {
   "cell_type": "code",
   "execution_count": null,
   "metadata": {
    "scrolled": true
   },
   "outputs": [],
   "source": [
    "df_final.head()"
   ]
  },
  {
   "cell_type": "code",
   "execution_count": null,
   "metadata": {},
   "outputs": [],
   "source": [
    "sns.heatmap(df_final.corr())\n",
    "plt.show()"
   ]
  },
  {
   "cell_type": "markdown",
   "metadata": {},
   "source": [
    "### Model training\n",
    "\n",
    "----"
   ]
  },
  {
   "cell_type": "code",
   "execution_count": null,
   "metadata": {},
   "outputs": [],
   "source": [
    "from sklearn.linear_model import LinearRegression\n",
    "from sklearn.model_selection import train_test_split"
   ]
  },
  {
   "cell_type": "code",
   "execution_count": null,
   "metadata": {},
   "outputs": [],
   "source": [
    "import datetime\n",
    "\n",
    "# train data with dates before 2019/11/01 and after 2019/01/01 \n",
    "train_data = df_final.loc[df_final['fixed_date'] < datetime.date(2019,11,1),:]\n",
    "test_data = df_final.loc[df_final['fixed_date'] >= datetime.date(2019,11,1),:]\n",
    "\n",
    "print(train_data.shape)\n",
    "print(test_data.shape)"
   ]
  },
  {
   "cell_type": "code",
   "execution_count": null,
   "metadata": {},
   "outputs": [],
   "source": []
  }
 ],
 "metadata": {
  "kernelspec": {
   "display_name": "Python 3.8.0 64-bit",
   "language": "python",
   "name": "python38064bit159108b3a1084e30bae43b4afa6f96dc"
  },
  "language_info": {
   "codemirror_mode": {
    "name": "ipython",
    "version": 3
   },
   "file_extension": ".py",
   "mimetype": "text/x-python",
   "name": "python",
   "nbconvert_exporter": "python",
   "pygments_lexer": "ipython3",
   "version": "3.8.0"
  }
 },
 "nbformat": 4,
 "nbformat_minor": 2
}
