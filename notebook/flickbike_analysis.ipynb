{
 "cells": [
  {
   "cell_type": "markdown",
   "metadata": {},
   "source": [
    "# FlickBike - Distributed Processing (DIP)\n",
    "---\n",
    "\n",
    "Voor deze opdracht werken we samen met FlickBike. FlickBike is een aanbieder van deelfietsen. Dat zijn fietsen die voor korte termijn, meestal een enkele rit, gehuurd kunnen worden door abonnees. In het geval van FlickBike mag je een fiets huren en achterlaten waar je maar wilt.\n",
    "\n",
    "---\n",
    "\n",
    "### Verkenning van de analyse: vragen\n",
    "\n",
    "---\n",
    "- __1 Hoe bereken je  de groei van FlickBike? In het bijzonder: hoe voorspel je het aantal verhuurde fietsen op de dagen tussen 10 december 2019 en 31 januari 2019?__ \n",
    "    - Data begint op 1 januari 2019\n",
    "    - Data eindigt op 9 december 2019\n",
    "    - Door een correlatie test uit te voeren kun je erachter komen of er bepaalde parameters zijn die een sterke correlatie hebben\n",
    "    - Door lineaire regressie toe te passen zou je voor de toekomstige dagen kunnen voorspellen hoeveel fietsen er zullen worden gehuurd op basis van de oude datapunten.\n",
    "    \n",
    "    \n",
    "    \n",
    "\n",
    "---\n",
    "\n",
    "- __2 Welke invloeden verwacht je van, en op welke manier kun je je model gevoelig maken voor:__ \n",
    "     - __*Het weer.*__\n",
    "         - Weer heeft veel invloed op het gebruik van deze FlickBikes omdat mensen natuurlijk met slecht weer, denk hierbij aan regen, minder snel/helemaal niet de fiets nemen. Als het goed weer is heeft het bijvoorbeeld wel een positief effect en nemen mensen sneller de fiets. Hoewel ik met alle weersomstandigheden het niet aanraad om te fietsen in Amsterdam. \n",
    "     - __*De dag van de week.*__\n",
    "         - Doordeweeks is een groot deel van de mensen aan het werk waardoor deze fietsen niet voor persoonlijk gebruik worden gebruikt. In het weekend zijn meer mensen vrij.  Dan kun je zeggen, ze gaan op stap en nemen een huurfiets, of ze blijven juist thuis. \n",
    "     - __*Bijzondere dagen in het jaar, zoals feestdagen, schoolvakanties, etc.*__\n",
    "         - Met bepaalde feestdagen, denk aan Pasen, zijn mensen niet snel buiten omdat ze met familie thuis zijn. Zo is dat ook vaker met andere feestdagen omdat buiten de winkels ook dicht zijn etc.  \n",
    "     - __*Eventueel andere factoren.*__\n",
    "         - Als benzineprijzen omhoog springen gaan mensen minder snel tanken, en nemen eerder alternatief vervoer. \n",
    "\n",
    "---\n",
    "\n",
    "- __3 Hoe kan, op basis van data, worden voorspeld waar er tekorten van fietsen dreigen te ontstaan en hoe de fietsen het beste zo kunnen worden verplaatst dat ze zowel over het hele terrein van Schiphol-Oost beschikbaar zijn en tegelijkertijd vooral beschikbaar zijn op plaatsen waar het regelmatig druk is?__  \n",
    "\n",
    "    - Ten eerste kijk je waarde 'hotspots' zijn, dus waar de fietsen het meest worden gebruikt.\n",
    "    - Bekijk hiervoor in welke buurt de 'start-lan' parameter het meeste voorkomt.\n",
    "    - Ten tweede kijk je waarde de minst drukke plekken zijn waar 'start-lan' voorkomt. Het is handig om op deze plekken juist fietsen beschikbaar te stellen\n",
    "    - Doe dit hetzelfde voor de 'end-lan'\n",
    "---\n",
    "- __4 Hoe kun je berekenen met hoeveel fietsen zou FlickBike minimaal kunnen werken, zodanig dat te verwachten pieken op te vangen zijn?__\n",
    "\n",
    "    - Bekijk met de huidige dataset op welke dag het 't drukst was maar ook wat het gemiddelde per dag is. Door iets boven het gemiddelde uit te komen zorg je ervoor dat de meeste mensen sowieso in bezit kunnen zijn van een huurfiets\n",
    "       - Onderscheid houden tussen hotspot met gemiddeld 1 fiets en een hotspot met bv 40 fietsen\n",
    "---\n",
    "\n",
    "- __5 Hoe ga je de antwoorden op vragen (1)-(4) visualiseren? Geef voorbeelden!__\n",
    "    - vraag 1: per dag (x-as) aantal verhuurde fietsen (y-as) visualiseren. \n",
    "    - vraag 2: correlatie test uitvoeren (data.corr())\n",
    "    - vraag 3: een interactieve map waarin alle fietsen zichtbaar zijn \n",
    "    - vraag 4: simpele plot zoals vraag 1 "
   ]
  },
  {
   "cell_type": "markdown",
   "metadata": {},
   "source": [
    "#### Data dictionary\n",
    "\n",
    "---\n",
    "\n",
    "- __Account__ = business\n",
    "- __Bikeid__ = intern gebruik\n",
    "- __Bikenumber__ = zichtbaar op fietsen (QR-CODE)\n",
    "- __Date__ = moment van invoering in database\n",
    "- __Start_time__ = start van sessie\n",
    "- __End_time__ = einde van sessie\n",
    "\n",
    "---\n",
    "- __test.csv__ = fietsverhuur tussen 1-11-2019 en 09-12-2019 # 7657 rows\n",
    "- __train.csv__ = fietsverhuur voor 1-11-2019. Wordt gebruikt om voorspellingen te maken voor de dagen die hierop volgen # 42720 rows\n",
    "- __bikes.cvs__ = alle fietsverhuur # 50377 rows\n",
    "---"
   ]
  },
  {
   "cell_type": "markdown",
   "metadata": {},
   "source": [
    "#### Import libraries "
   ]
  },
  {
   "cell_type": "code",
   "execution_count": 1,
   "metadata": {},
   "outputs": [],
   "source": [
    "import warnings\n",
    "warnings.filterwarnings('ignore')\n",
    "\n",
    "import matplotlib.pyplot as plt\n",
    "%matplotlib inline\n",
    "\n",
    "from statsmodels.graphics.tsaplots import plot_acf\n",
    "import pandas as pd\n",
    "import seaborn as sns\n",
    "import numpy as np\n",
    "\n",
    "import sys\n",
    "sys.path.append('/Users/wolfsinem/Distributed-Processing/Bike-Rental-FlickBike')\n",
    "from knmi import weather_temp_HH, weather_temp_DD"
   ]
  },
  {
   "cell_type": "markdown",
   "metadata": {},
   "source": [
    "#### Load data"
   ]
  },
  {
   "cell_type": "code",
   "execution_count": 2,
   "metadata": {},
   "outputs": [],
   "source": [
    "train_data = pd.read_csv((\"/Users/wolfsinem/flick_data/train.csv\"))\n",
    "test_data = pd.read_csv((\"/Users/wolfsinem/flick_data/test.csv\"))\n",
    "\n",
    "df = pd.concat([train_data,test_data])"
   ]
  },
  {
   "cell_type": "code",
   "execution_count": 3,
   "metadata": {},
   "outputs": [
    {
     "data": {
      "text/html": [
       "<div>\n",
       "<style scoped>\n",
       "    .dataframe tbody tr th:only-of-type {\n",
       "        vertical-align: middle;\n",
       "    }\n",
       "\n",
       "    .dataframe tbody tr th {\n",
       "        vertical-align: top;\n",
       "    }\n",
       "\n",
       "    .dataframe thead th {\n",
       "        text-align: right;\n",
       "    }\n",
       "</style>\n",
       "<table border=\"1\" class=\"dataframe\">\n",
       "  <thead>\n",
       "    <tr style=\"text-align: right;\">\n",
       "      <th></th>\n",
       "      <th>Unnamed: 0</th>\n",
       "      <th>tripid</th>\n",
       "      <th>userid</th>\n",
       "      <th>bikeid</th>\n",
       "      <th>account</th>\n",
       "      <th>bikenumber</th>\n",
       "      <th>start_time</th>\n",
       "      <th>end_time</th>\n",
       "      <th>start_lat</th>\n",
       "      <th>start_lng</th>\n",
       "      <th>end_lat</th>\n",
       "      <th>end_lng</th>\n",
       "      <th>date</th>\n",
       "    </tr>\n",
       "  </thead>\n",
       "  <tbody>\n",
       "    <tr>\n",
       "      <th>0</th>\n",
       "      <td>1</td>\n",
       "      <td>33838</td>\n",
       "      <td>13452</td>\n",
       "      <td>382</td>\n",
       "      <td>AT</td>\n",
       "      <td>6631000433</td>\n",
       "      <td>2019-01-01 06:46:03</td>\n",
       "      <td>2019-01-01 06:46:03</td>\n",
       "      <td>52.296065</td>\n",
       "      <td>4.787667</td>\n",
       "      <td>52.296200</td>\n",
       "      <td>4.787679</td>\n",
       "      <td>2019-01-01 06:46:00</td>\n",
       "    </tr>\n",
       "    <tr>\n",
       "      <th>1</th>\n",
       "      <td>2</td>\n",
       "      <td>33839</td>\n",
       "      <td>13452</td>\n",
       "      <td>812</td>\n",
       "      <td>AT</td>\n",
       "      <td>6631000146</td>\n",
       "      <td>2019-01-01 06:47:39</td>\n",
       "      <td>2019-01-01 06:47:39</td>\n",
       "      <td>52.295938</td>\n",
       "      <td>4.788336</td>\n",
       "      <td>52.295940</td>\n",
       "      <td>4.788557</td>\n",
       "      <td>2019-01-01 06:47:35</td>\n",
       "    </tr>\n",
       "    <tr>\n",
       "      <th>2</th>\n",
       "      <td>3</td>\n",
       "      <td>33851</td>\n",
       "      <td>13182</td>\n",
       "      <td>238</td>\n",
       "      <td>AT</td>\n",
       "      <td>6631000443</td>\n",
       "      <td>2019-01-01 14:15:36</td>\n",
       "      <td>2019-01-01 14:15:36</td>\n",
       "      <td>52.307337</td>\n",
       "      <td>4.807633</td>\n",
       "      <td>52.307336</td>\n",
       "      <td>4.807630</td>\n",
       "      <td>2019-01-01 14:15:32</td>\n",
       "    </tr>\n",
       "    <tr>\n",
       "      <th>3</th>\n",
       "      <td>4</td>\n",
       "      <td>33852</td>\n",
       "      <td>13182</td>\n",
       "      <td>238</td>\n",
       "      <td>AT</td>\n",
       "      <td>6631000443</td>\n",
       "      <td>2019-01-01 14:33:50</td>\n",
       "      <td>2019-01-01 14:33:50</td>\n",
       "      <td>52.308478</td>\n",
       "      <td>4.809970</td>\n",
       "      <td>52.308537</td>\n",
       "      <td>4.810099</td>\n",
       "      <td>2019-01-01 14:33:46</td>\n",
       "    </tr>\n",
       "    <tr>\n",
       "      <th>4</th>\n",
       "      <td>5</td>\n",
       "      <td>33867</td>\n",
       "      <td>12674</td>\n",
       "      <td>787</td>\n",
       "      <td>AI</td>\n",
       "      <td>6631000283</td>\n",
       "      <td>2019-01-01 20:11:05</td>\n",
       "      <td>2019-01-01 20:11:05</td>\n",
       "      <td>52.510340</td>\n",
       "      <td>4.725336</td>\n",
       "      <td>52.508565</td>\n",
       "      <td>4.726276</td>\n",
       "      <td>2019-01-01 20:11:01</td>\n",
       "    </tr>\n",
       "  </tbody>\n",
       "</table>\n",
       "</div>"
      ],
      "text/plain": [
       "   Unnamed: 0  tripid  userid  bikeid account  bikenumber  \\\n",
       "0           1   33838   13452     382      AT  6631000433   \n",
       "1           2   33839   13452     812      AT  6631000146   \n",
       "2           3   33851   13182     238      AT  6631000443   \n",
       "3           4   33852   13182     238      AT  6631000443   \n",
       "4           5   33867   12674     787      AI  6631000283   \n",
       "\n",
       "            start_time             end_time  start_lat  start_lng    end_lat  \\\n",
       "0  2019-01-01 06:46:03  2019-01-01 06:46:03  52.296065   4.787667  52.296200   \n",
       "1  2019-01-01 06:47:39  2019-01-01 06:47:39  52.295938   4.788336  52.295940   \n",
       "2  2019-01-01 14:15:36  2019-01-01 14:15:36  52.307337   4.807633  52.307336   \n",
       "3  2019-01-01 14:33:50  2019-01-01 14:33:50  52.308478   4.809970  52.308537   \n",
       "4  2019-01-01 20:11:05  2019-01-01 20:11:05  52.510340   4.725336  52.508565   \n",
       "\n",
       "    end_lng                 date  \n",
       "0  4.787679  2019-01-01 06:46:00  \n",
       "1  4.788557  2019-01-01 06:47:35  \n",
       "2  4.807630  2019-01-01 14:15:32  \n",
       "3  4.810099  2019-01-01 14:33:46  \n",
       "4  4.726276  2019-01-01 20:11:01  "
      ]
     },
     "execution_count": 3,
     "metadata": {},
     "output_type": "execute_result"
    }
   ],
   "source": [
    "df.head()"
   ]
  },
  {
   "cell_type": "markdown",
   "metadata": {},
   "source": [
    "#### Convert column date and start/end time to datetime"
   ]
  },
  {
   "cell_type": "code",
   "execution_count": 4,
   "metadata": {},
   "outputs": [],
   "source": [
    "df['date'] = pd.to_datetime(df['date'])\n",
    "df['start_time'] = pd.to_datetime(df['start_time'])\n",
    "df['end_time'] = pd.to_datetime(df['end_time'])"
   ]
  },
  {
   "cell_type": "code",
   "execution_count": 5,
   "metadata": {},
   "outputs": [],
   "source": [
    "# remove time of datetime variable\n",
    "df['fixed_date'] = pd.to_datetime(df['date']).dt.date "
   ]
  },
  {
   "cell_type": "markdown",
   "metadata": {},
   "source": [
    "#### Add extra columns (Feature Engineering)"
   ]
  },
  {
   "cell_type": "code",
   "execution_count": 6,
   "metadata": {},
   "outputs": [],
   "source": [
    "df['month'] = df['date'].apply(lambda time: time.month) \n",
    "df['hour'] = df['date'].apply(lambda time: time.hour)\n",
    "df['day'] = df['date'].apply(lambda time: time.dayofweek)"
   ]
  },
  {
   "cell_type": "code",
   "execution_count": 7,
   "metadata": {},
   "outputs": [
    {
     "data": {
      "text/html": [
       "<div>\n",
       "<style scoped>\n",
       "    .dataframe tbody tr th:only-of-type {\n",
       "        vertical-align: middle;\n",
       "    }\n",
       "\n",
       "    .dataframe tbody tr th {\n",
       "        vertical-align: top;\n",
       "    }\n",
       "\n",
       "    .dataframe thead th {\n",
       "        text-align: right;\n",
       "    }\n",
       "</style>\n",
       "<table border=\"1\" class=\"dataframe\">\n",
       "  <thead>\n",
       "    <tr style=\"text-align: right;\">\n",
       "      <th></th>\n",
       "      <th>Unnamed: 0</th>\n",
       "      <th>tripid</th>\n",
       "      <th>userid</th>\n",
       "      <th>bikeid</th>\n",
       "      <th>account</th>\n",
       "      <th>bikenumber</th>\n",
       "      <th>start_time</th>\n",
       "      <th>end_time</th>\n",
       "      <th>start_lat</th>\n",
       "      <th>start_lng</th>\n",
       "      <th>end_lat</th>\n",
       "      <th>end_lng</th>\n",
       "      <th>date</th>\n",
       "      <th>fixed_date</th>\n",
       "      <th>month</th>\n",
       "      <th>hour</th>\n",
       "      <th>day</th>\n",
       "    </tr>\n",
       "  </thead>\n",
       "  <tbody>\n",
       "    <tr>\n",
       "      <th>0</th>\n",
       "      <td>1</td>\n",
       "      <td>33838</td>\n",
       "      <td>13452</td>\n",
       "      <td>382</td>\n",
       "      <td>AT</td>\n",
       "      <td>6631000433</td>\n",
       "      <td>2019-01-01 06:46:03</td>\n",
       "      <td>2019-01-01 06:46:03</td>\n",
       "      <td>52.296065</td>\n",
       "      <td>4.787667</td>\n",
       "      <td>52.2962</td>\n",
       "      <td>4.787679</td>\n",
       "      <td>2019-01-01 06:46:00</td>\n",
       "      <td>2019-01-01</td>\n",
       "      <td>1</td>\n",
       "      <td>6</td>\n",
       "      <td>1</td>\n",
       "    </tr>\n",
       "  </tbody>\n",
       "</table>\n",
       "</div>"
      ],
      "text/plain": [
       "   Unnamed: 0  tripid  userid  bikeid account  bikenumber          start_time  \\\n",
       "0           1   33838   13452     382      AT  6631000433 2019-01-01 06:46:03   \n",
       "\n",
       "             end_time  start_lat  start_lng  end_lat   end_lng  \\\n",
       "0 2019-01-01 06:46:03  52.296065   4.787667  52.2962  4.787679   \n",
       "\n",
       "                 date  fixed_date  month  hour  day  \n",
       "0 2019-01-01 06:46:00  2019-01-01      1     6    1  "
      ]
     },
     "execution_count": 7,
     "metadata": {},
     "output_type": "execute_result"
    }
   ],
   "source": [
    "df.head(1)"
   ]
  },
  {
   "cell_type": "markdown",
   "metadata": {},
   "source": [
    "### Opdracht: Data van fietsverhuur\n",
    "---\n",
    "\n",
    "#### Vraag 1: produceer een plot van verhuur-per-dag voor deze dataset"
   ]
  },
  {
   "cell_type": "code",
   "execution_count": 8,
   "metadata": {
    "scrolled": false
   },
   "outputs": [
    {
     "data": {
      "image/png": "[encoded data removed]",
      "text/plain": [
       "<Figure size 1440x720 with 1 Axes>"
      ]
     },
     "metadata": {
      "needs_background": "light"
     },
     "output_type": "display_data"
    }
   ],
   "source": [
    "# variable consists of index(date) and values(amount)\n",
    "group_date = df['date'].groupby(df.date.dt.floor('d')).count()\n",
    "# group_date = df.groupby(df.date.dt.date)[\"tripid\"].sum() # tripid or bikeid etc?? \n",
    "\n",
    "# plot rental per day\n",
    "plt.figure(figsize=(20,10))\n",
    "sns.barplot(group_date.index, group_date.values, alpha=0.8)\n",
    "plt.title('Rental FlickBike per day')\n",
    "plt.ylabel('Number of rentals', fontsize=12)\n",
    "plt.xlabel('Day', fontsize=12)\n",
    "# plt.locator_params(axis='x', nbins=12) # tick values will be places incorrectly, fix this\n",
    "plt.show()"
   ]
  },
  {
   "cell_type": "code",
   "execution_count": 9,
   "metadata": {},
   "outputs": [
    {
     "data": {
      "text/plain": [
       "date\n",
       "2019-01-01      8\n",
       "2019-01-02     61\n",
       "2019-01-03     90\n",
       "2019-01-04     64\n",
       "2019-01-05     17\n",
       "             ... \n",
       "2019-12-05    310\n",
       "2019-12-06    203\n",
       "2019-12-07     14\n",
       "2019-12-08     19\n",
       "2019-12-09    253\n",
       "Name: date, Length: 342, dtype: int64"
      ]
     },
     "execution_count": 9,
     "metadata": {},
     "output_type": "execute_result"
    }
   ],
   "source": [
    "group_date"
   ]
  },
  {
   "cell_type": "markdown",
   "metadata": {},
   "source": [
    "#### Vraag 2: wat is de periodiciteit van deze dataset?"
   ]
  },
  {
   "cell_type": "code",
   "execution_count": 10,
   "metadata": {},
   "outputs": [
    {
     "data": {
      "image/png": "[encoded data removed]",
      "text/plain": [
       "<Figure size 432x288 with 1 Axes>"
      ]
     },
     "metadata": {
      "needs_background": "light"
     },
     "output_type": "display_data"
    }
   ],
   "source": [
    "plot_acf(group_date.values)\n",
    "plt.show()"
   ]
  },
  {
   "cell_type": "markdown",
   "metadata": {},
   "source": [
    "###### onderbouwing plot"
   ]
  },
  {
   "cell_type": "markdown",
   "metadata": {},
   "source": [
    "#### Add external data for holidays (2019)\n",
    "\n",
    "---\n",
    "Source: https://kalender-nederland.nl/feestdagen-2019/ "
   ]
  },
  {
   "cell_type": "code",
   "execution_count": 11,
   "metadata": {},
   "outputs": [],
   "source": [
    "national_holidays = pd.read_csv((\"/Users/wolfsinem/distributed-processing/bike-rental-flickbike/data/Nationale Feestdagen.csv\"))\n",
    "other_holidays = pd.read_csv((\"/Users/wolfsinem/distributed-processing/bike-rental-flickbike/data/Overige Feestdagen.csv\"))"
   ]
  },
  {
   "cell_type": "code",
   "execution_count": 12,
   "metadata": {},
   "outputs": [],
   "source": [
    "all_holidays = pd.concat([national_holidays,other_holidays]).reset_index(drop=True)\n",
    "all_holidays['Datum'] = pd.to_datetime(all_holidays['Datum'])\n",
    "all_holidays['Datum'] = all_holidays['Datum'].dt.date"
   ]
  },
  {
   "cell_type": "code",
   "execution_count": 13,
   "metadata": {},
   "outputs": [
    {
     "data": {
      "text/html": [
       "<div>\n",
       "<style scoped>\n",
       "    .dataframe tbody tr th:only-of-type {\n",
       "        vertical-align: middle;\n",
       "    }\n",
       "\n",
       "    .dataframe tbody tr th {\n",
       "        vertical-align: top;\n",
       "    }\n",
       "\n",
       "    .dataframe thead th {\n",
       "        text-align: right;\n",
       "    }\n",
       "</style>\n",
       "<table border=\"1\" class=\"dataframe\">\n",
       "  <thead>\n",
       "    <tr style=\"text-align: right;\">\n",
       "      <th></th>\n",
       "      <th>Feestdag</th>\n",
       "      <th>Datum</th>\n",
       "    </tr>\n",
       "  </thead>\n",
       "  <tbody>\n",
       "    <tr>\n",
       "      <th>0</th>\n",
       "      <td>Nieuwjaarsdag 2019</td>\n",
       "      <td>2019-01-01</td>\n",
       "    </tr>\n",
       "    <tr>\n",
       "      <th>1</th>\n",
       "      <td>Bevrijdingsdag 2019</td>\n",
       "      <td>2019-05-05</td>\n",
       "    </tr>\n",
       "    <tr>\n",
       "      <th>2</th>\n",
       "      <td>Hemelvaart 2019</td>\n",
       "      <td>2019-05-30</td>\n",
       "    </tr>\n",
       "    <tr>\n",
       "      <th>3</th>\n",
       "      <td>Goede vrijdag 2019</td>\n",
       "      <td>2019-04-19</td>\n",
       "    </tr>\n",
       "    <tr>\n",
       "      <th>4</th>\n",
       "      <td>1e Paasdag 2019</td>\n",
       "      <td>2019-04-21</td>\n",
       "    </tr>\n",
       "    <tr>\n",
       "      <th>5</th>\n",
       "      <td>2e Paasdag 2019</td>\n",
       "      <td>2019-04-22</td>\n",
       "    </tr>\n",
       "    <tr>\n",
       "      <th>6</th>\n",
       "      <td>Koningsdag 2019</td>\n",
       "      <td>2019-04-27</td>\n",
       "    </tr>\n",
       "    <tr>\n",
       "      <th>7</th>\n",
       "      <td>1e Pinksterdag 2019</td>\n",
       "      <td>2019-06-09</td>\n",
       "    </tr>\n",
       "    <tr>\n",
       "      <th>8</th>\n",
       "      <td>2e Pinksterdag 2019</td>\n",
       "      <td>2019-06-10</td>\n",
       "    </tr>\n",
       "    <tr>\n",
       "      <th>9</th>\n",
       "      <td>1e Kerstdag 2019</td>\n",
       "      <td>2019-12-25</td>\n",
       "    </tr>\n",
       "    <tr>\n",
       "      <th>10</th>\n",
       "      <td>2e Kerstdag 2019</td>\n",
       "      <td>2019-12-26</td>\n",
       "    </tr>\n",
       "    <tr>\n",
       "      <th>11</th>\n",
       "      <td>Dodenherdenking 2019</td>\n",
       "      <td>2019-05-04</td>\n",
       "    </tr>\n",
       "    <tr>\n",
       "      <th>12</th>\n",
       "      <td>Dierendag 2019</td>\n",
       "      <td>2019-10-04</td>\n",
       "    </tr>\n",
       "    <tr>\n",
       "      <th>13</th>\n",
       "      <td>Drie Koningen 2019</td>\n",
       "      <td>2019-01-06</td>\n",
       "    </tr>\n",
       "    <tr>\n",
       "      <th>14</th>\n",
       "      <td>Moederdag 2019</td>\n",
       "      <td>2019-05-12</td>\n",
       "    </tr>\n",
       "    <tr>\n",
       "      <th>15</th>\n",
       "      <td>Halloween 2019</td>\n",
       "      <td>2019-10-31</td>\n",
       "    </tr>\n",
       "    <tr>\n",
       "      <th>16</th>\n",
       "      <td>Valentijnsdag 2019</td>\n",
       "      <td>2019-02-14</td>\n",
       "    </tr>\n",
       "    <tr>\n",
       "      <th>17</th>\n",
       "      <td>Vaderdag 2019</td>\n",
       "      <td>2019-06-16</td>\n",
       "    </tr>\n",
       "    <tr>\n",
       "      <th>18</th>\n",
       "      <td>Prinsjesdag 2019</td>\n",
       "      <td>2019-09-17</td>\n",
       "    </tr>\n",
       "    <tr>\n",
       "      <th>19</th>\n",
       "      <td>Sint Maarten 2019</td>\n",
       "      <td>2019-11-11</td>\n",
       "    </tr>\n",
       "    <tr>\n",
       "      <th>20</th>\n",
       "      <td>Black Friday 2019</td>\n",
       "      <td>2019-11-29</td>\n",
       "    </tr>\n",
       "    <tr>\n",
       "      <th>21</th>\n",
       "      <td>Sinterklaas 2019</td>\n",
       "      <td>2019-12-05</td>\n",
       "    </tr>\n",
       "    <tr>\n",
       "      <th>22</th>\n",
       "      <td>Oudejaarsdag 2019</td>\n",
       "      <td>2019-12-31</td>\n",
       "    </tr>\n",
       "  </tbody>\n",
       "</table>\n",
       "</div>"
      ],
      "text/plain": [
       "                Feestdag       Datum\n",
       "0     Nieuwjaarsdag 2019  2019-01-01\n",
       "1    Bevrijdingsdag 2019  2019-05-05\n",
       "2        Hemelvaart 2019  2019-05-30\n",
       "3     Goede vrijdag 2019  2019-04-19\n",
       "4        1e Paasdag 2019  2019-04-21\n",
       "5        2e Paasdag 2019  2019-04-22\n",
       "6        Koningsdag 2019  2019-04-27\n",
       "7    1e Pinksterdag 2019  2019-06-09\n",
       "8    2e Pinksterdag 2019  2019-06-10\n",
       "9       1e Kerstdag 2019  2019-12-25\n",
       "10      2e Kerstdag 2019  2019-12-26\n",
       "11  Dodenherdenking 2019  2019-05-04\n",
       "12        Dierendag 2019  2019-10-04\n",
       "13    Drie Koningen 2019  2019-01-06\n",
       "14        Moederdag 2019  2019-05-12\n",
       "15        Halloween 2019  2019-10-31\n",
       "16    Valentijnsdag 2019  2019-02-14\n",
       "17         Vaderdag 2019  2019-06-16\n",
       "18      Prinsjesdag 2019  2019-09-17\n",
       "19     Sint Maarten 2019  2019-11-11\n",
       "20     Black Friday 2019  2019-11-29\n",
       "21      Sinterklaas 2019  2019-12-05\n",
       "22     Oudejaarsdag 2019  2019-12-31"
      ]
     },
     "execution_count": 13,
     "metadata": {},
     "output_type": "execute_result"
    }
   ],
   "source": [
    "all_holidays"
   ]
  },
  {
   "cell_type": "markdown",
   "metadata": {},
   "source": [
    "#### Merge holidays with original dataset 'df'\n",
    "---\n",
    "\n",
    "By doing so you can check if bikes were hired on a holiday.\n",
    "As you can see there were only __1975__ (3.9%) times bikes were hired on a holiday compared to __48402__ (96%) bikes on a regular day.\n",
    "\n",
    "---"
   ]
  },
  {
   "cell_type": "code",
   "execution_count": 14,
   "metadata": {},
   "outputs": [
    {
     "data": {
      "text/plain": [
       "False    0.960796\n",
       "True     0.039204\n",
       "Name: date, dtype: float64"
      ]
     },
     "execution_count": 14,
     "metadata": {},
     "output_type": "execute_result"
    }
   ],
   "source": [
    "check_holiday = df['date'].dt.date.isin(all_holidays.Datum)\n",
    "check_holiday.value_counts(normalize=True)"
   ]
  },
  {
   "cell_type": "code",
   "execution_count": 15,
   "metadata": {},
   "outputs": [],
   "source": [
    "# df[df['date'].dt.date.isin(all_holidays.Datum)].head()\n",
    "df['holiday'] = check_holiday"
   ]
  },
  {
   "cell_type": "markdown",
   "metadata": {},
   "source": [
    "#### Add Dutch weather data from KNMI \n",
    "\n",
    "Easier way to directly download the data in txt format: https://projects.knmi.nl/klimatologie/uurgegevens/selectie.cgi \n",
    "\n",
    "---\n",
    "See data dictionary in file knmi.py\n",
    "\n",
    "Source: https://www.knmi.nl/kennis-en-datacentrum/achtergrond/data-ophalen-vanuit-een-script\n",
    "\n",
    "---"
   ]
  },
  {
   "cell_type": "code",
   "execution_count": 16,
   "metadata": {},
   "outputs": [],
   "source": [
    "df_temp = weather_temp_DD()\n",
    "\n",
    "df_temp.reset_index(inplace=True) # reset index\n",
    "df_temp.rename(columns={'YYYYMMDD': 'fixed_date'},inplace=True) # rename column YYYYMMDD to date\n",
    "df_temp['fixed_date'] = pd.to_datetime(df_temp['fixed_date']).dt.date"
   ]
  },
  {
   "cell_type": "code",
   "execution_count": 17,
   "metadata": {},
   "outputs": [
    {
     "data": {
      "text/html": [
       "<div>\n",
       "<style scoped>\n",
       "    .dataframe tbody tr th:only-of-type {\n",
       "        vertical-align: middle;\n",
       "    }\n",
       "\n",
       "    .dataframe tbody tr th {\n",
       "        vertical-align: top;\n",
       "    }\n",
       "\n",
       "    .dataframe thead th {\n",
       "        text-align: right;\n",
       "    }\n",
       "</style>\n",
       "<table border=\"1\" class=\"dataframe\">\n",
       "  <thead>\n",
       "    <tr style=\"text-align: right;\">\n",
       "      <th></th>\n",
       "      <th>fixed_date</th>\n",
       "      <th>STN</th>\n",
       "      <th>TG</th>\n",
       "      <th>TN</th>\n",
       "      <th>TNH</th>\n",
       "      <th>TX</th>\n",
       "      <th>TXH</th>\n",
       "      <th>T10N</th>\n",
       "      <th>T10NH</th>\n",
       "    </tr>\n",
       "  </thead>\n",
       "  <tbody>\n",
       "    <tr>\n",
       "      <th>0</th>\n",
       "      <td>2019-01-01</td>\n",
       "      <td>240</td>\n",
       "      <td>7.7</td>\n",
       "      <td>5.2</td>\n",
       "      <td>19</td>\n",
       "      <td>9.1</td>\n",
       "      <td>1.0</td>\n",
       "      <td>41</td>\n",
       "      <td>24</td>\n",
       "    </tr>\n",
       "    <tr>\n",
       "      <th>1</th>\n",
       "      <td>2019-01-02</td>\n",
       "      <td>240</td>\n",
       "      <td>5.6</td>\n",
       "      <td>2.5</td>\n",
       "      <td>24</td>\n",
       "      <td>7.1</td>\n",
       "      <td>1.2</td>\n",
       "      <td>16</td>\n",
       "      <td>24</td>\n",
       "    </tr>\n",
       "    <tr>\n",
       "      <th>2</th>\n",
       "      <td>2019-01-03</td>\n",
       "      <td>240</td>\n",
       "      <td>3.1</td>\n",
       "      <td>0.3</td>\n",
       "      <td>5</td>\n",
       "      <td>6.8</td>\n",
       "      <td>1.3</td>\n",
       "      <td>-8</td>\n",
       "      <td>6</td>\n",
       "    </tr>\n",
       "    <tr>\n",
       "      <th>3</th>\n",
       "      <td>2019-01-04</td>\n",
       "      <td>240</td>\n",
       "      <td>5.4</td>\n",
       "      <td>1.0</td>\n",
       "      <td>1</td>\n",
       "      <td>6.8</td>\n",
       "      <td>1.9</td>\n",
       "      <td>-2</td>\n",
       "      <td>6</td>\n",
       "    </tr>\n",
       "    <tr>\n",
       "      <th>4</th>\n",
       "      <td>2019-01-05</td>\n",
       "      <td>240</td>\n",
       "      <td>7.2</td>\n",
       "      <td>5.7</td>\n",
       "      <td>22</td>\n",
       "      <td>8.1</td>\n",
       "      <td>0.9</td>\n",
       "      <td>49</td>\n",
       "      <td>24</td>\n",
       "    </tr>\n",
       "  </tbody>\n",
       "</table>\n",
       "</div>"
      ],
      "text/plain": [
       "   fixed_date  STN   TG   TN  TNH   TX  TXH  T10N  T10NH\n",
       "0  2019-01-01  240  7.7  5.2   19  9.1  1.0    41     24\n",
       "1  2019-01-02  240  5.6  2.5   24  7.1  1.2    16     24\n",
       "2  2019-01-03  240  3.1  0.3    5  6.8  1.3    -8      6\n",
       "3  2019-01-04  240  5.4  1.0    1  6.8  1.9    -2      6\n",
       "4  2019-01-05  240  7.2  5.7   22  8.1  0.9    49     24"
      ]
     },
     "execution_count": 17,
     "metadata": {},
     "output_type": "execute_result"
    }
   ],
   "source": [
    "df_temp['TG'] = df_temp['TG'] * 0.1\n",
    "df_temp['TN'] = df_temp['TN'] * 0.1\n",
    "df_temp['TX'] = df_temp['TX'] * 0.1\n",
    "df_temp['TXH'] = df_temp['TXH'] * 0.1\n",
    "df_temp.head()"
   ]
  },
  {
   "cell_type": "code",
   "execution_count": 18,
   "metadata": {},
   "outputs": [],
   "source": [
    "df = pd.merge(df, df_temp, on=['fixed_date'])"
   ]
  },
  {
   "cell_type": "markdown",
   "metadata": {},
   "source": [
    "#### Correlation between all columns"
   ]
  },
  {
   "cell_type": "code",
   "execution_count": 19,
   "metadata": {},
   "outputs": [
    {
     "data": {
      "image/png": "[encoded data removed]",
      "text/plain": [
       "<Figure size 432x288 with 2 Axes>"
      ]
     },
     "metadata": {
      "needs_background": "light"
     },
     "output_type": "display_data"
    }
   ],
   "source": [
    "sns.heatmap(df.corr())\n",
    "plt.show()"
   ]
  },
  {
   "cell_type": "markdown",
   "metadata": {},
   "source": [
    "#### Add new column to dataframe with total duration"
   ]
  },
  {
   "cell_type": "code",
   "execution_count": 20,
   "metadata": {},
   "outputs": [],
   "source": [
    "# start_time = df['start_time']\n",
    "# end_time = df['end_time']\n",
    "\n",
    "# delta_duration = end_time - start_time\n",
    "# df['total_duration'] = delta_duration"
   ]
  },
  {
   "cell_type": "code",
   "execution_count": 21,
   "metadata": {},
   "outputs": [],
   "source": [
    "# df['total_duration'].value_counts(bins=2)"
   ]
  },
  {
   "cell_type": "markdown",
   "metadata": {},
   "source": [
    "#### Add count column which tells how many bikes were hired on that date"
   ]
  },
  {
   "cell_type": "code",
   "execution_count": 22,
   "metadata": {},
   "outputs": [],
   "source": [
    "count = pd.DataFrame(data=group_date).rename_axis('fixed_date').reset_index()\n",
    "count.rename(columns={'date': 'count'},inplace=True)\n",
    "count['fixed_date'] = pd.to_datetime(count['fixed_date']).dt.date"
   ]
  },
  {
   "cell_type": "code",
   "execution_count": 23,
   "metadata": {},
   "outputs": [],
   "source": [
    "df = pd.merge(df,count, on=['fixed_date'])"
   ]
  },
  {
   "cell_type": "markdown",
   "metadata": {},
   "source": [
    "#### Influence of day of week\n",
    "---\n",
    "\n",
    "I will check here if a day in a week has influence on the amount of bikes that are being hired, whereas 0 is __sunday__ and 6 is __saturday__ (check of dit klopt, misschien begint het gewoon vanaf maandag)\n",
    "\n",
    "---"
   ]
  },
  {
   "cell_type": "code",
   "execution_count": 24,
   "metadata": {},
   "outputs": [],
   "source": [
    "day_of_week = df['date'].apply(lambda time: time.dayofweek).value_counts()"
   ]
  },
  {
   "cell_type": "code",
   "execution_count": 25,
   "metadata": {
    "scrolled": true
   },
   "outputs": [
    {
     "data": {
      "image/png": "[encoded data removed]",
      "text/plain": [
       "<Figure size 432x288 with 1 Axes>"
      ]
     },
     "metadata": {
      "needs_background": "light"
     },
     "output_type": "display_data"
    }
   ],
   "source": [
    "x = day_of_week.index\n",
    "y = day_of_week.values\n",
    "plt.bar(x,y)\n",
    "plt.xlabel('Day of week')\n",
    "plt.ylabel('Total bikes hired')\n",
    "plt.show()"
   ]
  },
  {
   "cell_type": "markdown",
   "metadata": {},
   "source": [
    "#### Influence of hour of day\n",
    "\n",
    "--- \n",
    "\n",
    "I will check here if an hour in a day has influence on the amount of bikes that are being hired.\n",
    "\n",
    "Most of the bikes are hired from 8 in the morning till 5.\n",
    "\n",
    "---"
   ]
  },
  {
   "cell_type": "code",
   "execution_count": 26,
   "metadata": {},
   "outputs": [],
   "source": [
    "hour_in_day = df['date'].apply(lambda time: time.hour).value_counts()"
   ]
  },
  {
   "cell_type": "code",
   "execution_count": 27,
   "metadata": {},
   "outputs": [
    {
     "data": {
      "image/png": "[encoded data removed]",
      "text/plain": [
       "<Figure size 432x288 with 1 Axes>"
      ]
     },
     "metadata": {
      "needs_background": "light"
     },
     "output_type": "display_data"
    }
   ],
   "source": [
    "x = hour_in_day.index\n",
    "y = hour_in_day.values\n",
    "plt.bar(x,y)\n",
    "plt.xlabel('Hour')\n",
    "plt.ylabel('Total bikes hired')\n",
    "plt.show()"
   ]
  },
  {
   "cell_type": "markdown",
   "metadata": {},
   "source": [
    "#### Influence of month\n",
    "\n",
    "--- \n",
    "I will check here if a month in a year has influence on the amount of bikes that are being hired\n",
    "\n",
    "Most of the bikes were hired in July __-->__ summertime\n",
    "\n",
    "--- "
   ]
  },
  {
   "cell_type": "code",
   "execution_count": 28,
   "metadata": {},
   "outputs": [],
   "source": [
    "month_of_year = df['date'].apply(lambda time: time.month).value_counts()"
   ]
  },
  {
   "cell_type": "code",
   "execution_count": 29,
   "metadata": {
    "scrolled": true
   },
   "outputs": [
    {
     "data": {
      "image/png": "[encoded data removed]",
      "text/plain": [
       "<Figure size 432x288 with 1 Axes>"
      ]
     },
     "metadata": {
      "needs_background": "light"
     },
     "output_type": "display_data"
    }
   ],
   "source": [
    "x = month_of_year.index\n",
    "y = month_of_year.values\n",
    "plt.bar(x,y)\n",
    "plt.xlabel('Month')\n",
    "plt.ylabel('Total bikes hired')\n",
    "plt.show()"
   ]
  },
  {
   "cell_type": "markdown",
   "metadata": {},
   "source": [
    "### Final dataframe"
   ]
  },
  {
   "cell_type": "code",
   "execution_count": 30,
   "metadata": {},
   "outputs": [],
   "source": [
    "df_final = df.drop(columns=['Unnamed: 0','tripid','userid','bikeid','account','bikenumber','start_lat','start_lng','end_lat','end_lng','start_time','end_time','STN','date'])\n",
    "df_final = df_final.drop_duplicates(subset='fixed_date').reset_index(drop=True)\n",
    "df_final['holiday'] = df_final['holiday'].astype(int)"
   ]
  },
  {
   "cell_type": "code",
   "execution_count": 31,
   "metadata": {
    "scrolled": true
   },
   "outputs": [
    {
     "data": {
      "text/html": [
       "<div>\n",
       "<style scoped>\n",
       "    .dataframe tbody tr th:only-of-type {\n",
       "        vertical-align: middle;\n",
       "    }\n",
       "\n",
       "    .dataframe tbody tr th {\n",
       "        vertical-align: top;\n",
       "    }\n",
       "\n",
       "    .dataframe thead th {\n",
       "        text-align: right;\n",
       "    }\n",
       "</style>\n",
       "<table border=\"1\" class=\"dataframe\">\n",
       "  <thead>\n",
       "    <tr style=\"text-align: right;\">\n",
       "      <th></th>\n",
       "      <th>fixed_date</th>\n",
       "      <th>month</th>\n",
       "      <th>hour</th>\n",
       "      <th>day</th>\n",
       "      <th>holiday</th>\n",
       "      <th>TG</th>\n",
       "      <th>TN</th>\n",
       "      <th>TNH</th>\n",
       "      <th>TX</th>\n",
       "      <th>TXH</th>\n",
       "      <th>T10N</th>\n",
       "      <th>T10NH</th>\n",
       "      <th>count</th>\n",
       "    </tr>\n",
       "  </thead>\n",
       "  <tbody>\n",
       "    <tr>\n",
       "      <th>0</th>\n",
       "      <td>2019-01-01</td>\n",
       "      <td>1</td>\n",
       "      <td>6</td>\n",
       "      <td>1</td>\n",
       "      <td>1</td>\n",
       "      <td>7.7</td>\n",
       "      <td>5.2</td>\n",
       "      <td>19</td>\n",
       "      <td>9.1</td>\n",
       "      <td>1.0</td>\n",
       "      <td>41</td>\n",
       "      <td>24</td>\n",
       "      <td>8</td>\n",
       "    </tr>\n",
       "    <tr>\n",
       "      <th>1</th>\n",
       "      <td>2019-01-02</td>\n",
       "      <td>1</td>\n",
       "      <td>6</td>\n",
       "      <td>2</td>\n",
       "      <td>0</td>\n",
       "      <td>5.6</td>\n",
       "      <td>2.5</td>\n",
       "      <td>24</td>\n",
       "      <td>7.1</td>\n",
       "      <td>1.2</td>\n",
       "      <td>16</td>\n",
       "      <td>24</td>\n",
       "      <td>61</td>\n",
       "    </tr>\n",
       "    <tr>\n",
       "      <th>2</th>\n",
       "      <td>2019-01-03</td>\n",
       "      <td>1</td>\n",
       "      <td>6</td>\n",
       "      <td>3</td>\n",
       "      <td>0</td>\n",
       "      <td>3.1</td>\n",
       "      <td>0.3</td>\n",
       "      <td>5</td>\n",
       "      <td>6.8</td>\n",
       "      <td>1.3</td>\n",
       "      <td>-8</td>\n",
       "      <td>6</td>\n",
       "      <td>90</td>\n",
       "    </tr>\n",
       "    <tr>\n",
       "      <th>3</th>\n",
       "      <td>2019-01-04</td>\n",
       "      <td>1</td>\n",
       "      <td>0</td>\n",
       "      <td>4</td>\n",
       "      <td>0</td>\n",
       "      <td>5.4</td>\n",
       "      <td>1.0</td>\n",
       "      <td>1</td>\n",
       "      <td>6.8</td>\n",
       "      <td>1.9</td>\n",
       "      <td>-2</td>\n",
       "      <td>6</td>\n",
       "      <td>64</td>\n",
       "    </tr>\n",
       "    <tr>\n",
       "      <th>4</th>\n",
       "      <td>2019-01-05</td>\n",
       "      <td>1</td>\n",
       "      <td>0</td>\n",
       "      <td>5</td>\n",
       "      <td>0</td>\n",
       "      <td>7.2</td>\n",
       "      <td>5.7</td>\n",
       "      <td>22</td>\n",
       "      <td>8.1</td>\n",
       "      <td>0.9</td>\n",
       "      <td>49</td>\n",
       "      <td>24</td>\n",
       "      <td>17</td>\n",
       "    </tr>\n",
       "  </tbody>\n",
       "</table>\n",
       "</div>"
      ],
      "text/plain": [
       "   fixed_date  month  hour  day  holiday   TG   TN  TNH   TX  TXH  T10N  \\\n",
       "0  2019-01-01      1     6    1        1  7.7  5.2   19  9.1  1.0    41   \n",
       "1  2019-01-02      1     6    2        0  5.6  2.5   24  7.1  1.2    16   \n",
       "2  2019-01-03      1     6    3        0  3.1  0.3    5  6.8  1.3    -8   \n",
       "3  2019-01-04      1     0    4        0  5.4  1.0    1  6.8  1.9    -2   \n",
       "4  2019-01-05      1     0    5        0  7.2  5.7   22  8.1  0.9    49   \n",
       "\n",
       "   T10NH  count  \n",
       "0     24      8  \n",
       "1     24     61  \n",
       "2      6     90  \n",
       "3      6     64  \n",
       "4     24     17  "
      ]
     },
     "execution_count": 31,
     "metadata": {},
     "output_type": "execute_result"
    }
   ],
   "source": [
    "df_final.head()"
   ]
  },
  {
   "cell_type": "markdown",
   "metadata": {},
   "source": [
    "### Dataframe to forecast"
   ]
  },
  {
   "cell_type": "code",
   "execution_count": 32,
   "metadata": {},
   "outputs": [],
   "source": [
    "import datetime\n",
    "\n",
    "# forecasting_dates = pd.date_range(start='2019-12-10',end='2020-1-31')\n",
    "forecasting_df = df_temp.loc[df_temp['fixed_date'] >= datetime.date(2019,11,1),:]\n",
    "\n",
    "forecasting_df['fixed_date'] = pd.to_datetime(forecasting_df['fixed_date'])\n",
    "forecasting_df['month'] = forecasting_df['fixed_date'].apply(lambda time: time.month)\n",
    "forecasting_df['day'] = forecasting_df['fixed_date'].apply(lambda time: time.dayofweek)\n",
    "# forecasting_df['hour'] = forecasting_df['fixed_date'].apply(lambda time: time.hour --> not possible datetime for forecast is not available \n",
    "forecasting_df['hour'] = [3, 4] * (len(forecasting_df) // 2) # average hour is 3.7, thats why i chose to fill it with these values but ofcourse this is not the best solution"
   ]
  },
  {
   "cell_type": "code",
   "execution_count": 33,
   "metadata": {},
   "outputs": [],
   "source": [
    "check_holiday = forecasting_df['fixed_date'].isin(all_holidays.Datum)\n",
    "check_holiday.value_counts(normalize=True)\n",
    "\n",
    "forecasting_df['holiday'] = check_holiday\n",
    "forecasting_df['holiday'] = forecasting_df['holiday'].astype(int)\n",
    "\n",
    "forecasting_df = forecasting_df.drop(columns=['STN','fixed_date']).reset_index(drop=True)"
   ]
  },
  {
   "cell_type": "code",
   "execution_count": 34,
   "metadata": {},
   "outputs": [
    {
     "data": {
      "text/html": [
       "<div>\n",
       "<style scoped>\n",
       "    .dataframe tbody tr th:only-of-type {\n",
       "        vertical-align: middle;\n",
       "    }\n",
       "\n",
       "    .dataframe tbody tr th {\n",
       "        vertical-align: top;\n",
       "    }\n",
       "\n",
       "    .dataframe thead th {\n",
       "        text-align: right;\n",
       "    }\n",
       "</style>\n",
       "<table border=\"1\" class=\"dataframe\">\n",
       "  <thead>\n",
       "    <tr style=\"text-align: right;\">\n",
       "      <th></th>\n",
       "      <th>TG</th>\n",
       "      <th>TN</th>\n",
       "      <th>TNH</th>\n",
       "      <th>TX</th>\n",
       "      <th>TXH</th>\n",
       "      <th>T10N</th>\n",
       "      <th>T10NH</th>\n",
       "      <th>month</th>\n",
       "      <th>day</th>\n",
       "      <th>hour</th>\n",
       "      <th>holiday</th>\n",
       "    </tr>\n",
       "  </thead>\n",
       "  <tbody>\n",
       "    <tr>\n",
       "      <th>0</th>\n",
       "      <td>7.9</td>\n",
       "      <td>1.5</td>\n",
       "      <td>1</td>\n",
       "      <td>13.3</td>\n",
       "      <td>2.4</td>\n",
       "      <td>-1</td>\n",
       "      <td>6</td>\n",
       "      <td>11</td>\n",
       "      <td>4</td>\n",
       "      <td>3</td>\n",
       "      <td>0</td>\n",
       "    </tr>\n",
       "    <tr>\n",
       "      <th>1</th>\n",
       "      <td>12.8</td>\n",
       "      <td>10.7</td>\n",
       "      <td>24</td>\n",
       "      <td>14.5</td>\n",
       "      <td>0.5</td>\n",
       "      <td>95</td>\n",
       "      <td>24</td>\n",
       "      <td>11</td>\n",
       "      <td>5</td>\n",
       "      <td>4</td>\n",
       "      <td>0</td>\n",
       "    </tr>\n",
       "    <tr>\n",
       "      <th>2</th>\n",
       "      <td>10.1</td>\n",
       "      <td>7.3</td>\n",
       "      <td>22</td>\n",
       "      <td>12.4</td>\n",
       "      <td>1.3</td>\n",
       "      <td>60</td>\n",
       "      <td>24</td>\n",
       "      <td>11</td>\n",
       "      <td>6</td>\n",
       "      <td>3</td>\n",
       "      <td>0</td>\n",
       "    </tr>\n",
       "    <tr>\n",
       "      <th>3</th>\n",
       "      <td>10.3</td>\n",
       "      <td>7.7</td>\n",
       "      <td>1</td>\n",
       "      <td>12.6</td>\n",
       "      <td>1.5</td>\n",
       "      <td>67</td>\n",
       "      <td>6</td>\n",
       "      <td>11</td>\n",
       "      <td>0</td>\n",
       "      <td>4</td>\n",
       "      <td>0</td>\n",
       "    </tr>\n",
       "    <tr>\n",
       "      <th>4</th>\n",
       "      <td>9.6</td>\n",
       "      <td>7.2</td>\n",
       "      <td>4</td>\n",
       "      <td>11.5</td>\n",
       "      <td>1.4</td>\n",
       "      <td>59</td>\n",
       "      <td>12</td>\n",
       "      <td>11</td>\n",
       "      <td>1</td>\n",
       "      <td>3</td>\n",
       "      <td>0</td>\n",
       "    </tr>\n",
       "  </tbody>\n",
       "</table>\n",
       "</div>"
      ],
      "text/plain": [
       "     TG    TN  TNH    TX  TXH  T10N  T10NH  month  day  hour  holiday\n",
       "0   7.9   1.5    1  13.3  2.4    -1      6     11    4     3        0\n",
       "1  12.8  10.7   24  14.5  0.5    95     24     11    5     4        0\n",
       "2  10.1   7.3   22  12.4  1.3    60     24     11    6     3        0\n",
       "3  10.3   7.7    1  12.6  1.5    67      6     11    0     4        0\n",
       "4   9.6   7.2    4  11.5  1.4    59     12     11    1     3        0"
      ]
     },
     "execution_count": 34,
     "metadata": {},
     "output_type": "execute_result"
    }
   ],
   "source": [
    "forecasting_df.head()"
   ]
  },
  {
   "cell_type": "markdown",
   "metadata": {},
   "source": [
    "### Model training\n",
    "\n",
    "----"
   ]
  },
  {
   "cell_type": "markdown",
   "metadata": {},
   "source": [
    "#### Baseline"
   ]
  },
  {
   "cell_type": "code",
   "execution_count": 35,
   "metadata": {},
   "outputs": [],
   "source": [
    "from sklearn.metrics import mean_squared_error"
   ]
  },
  {
   "cell_type": "code",
   "execution_count": 36,
   "metadata": {},
   "outputs": [
    {
     "name": "stdout",
     "output_type": "stream",
     "text": [
      "Baseline RMSE: 104.06 average deviation\n"
     ]
    }
   ],
   "source": [
    "baseline = df_final.copy()\n",
    "baseline['mean'] = baseline['count'].mean()\n",
    "rmse = (mean_squared_error(baseline['count'], baseline['mean']))**0.5\n",
    "print(f\"Baseline RMSE: {rmse:.2f} average deviation\")"
   ]
  },
  {
   "cell_type": "code",
   "execution_count": 37,
   "metadata": {},
   "outputs": [],
   "source": [
    "# import datetime\n",
    "\n",
    "# # train data with dates before 2019/11/01 and after 2019/01/01 \n",
    "# train_data = df_final.loc[df_final['fixed_date'] < datetime.date(2019,11,1),:]\n",
    "# test_data = df_final.loc[df_final['fixed_date'] >= datetime.date(2019,11,1),:]\n",
    "\n",
    "# print(train_data.shape)\n",
    "# print(test_data.shape)"
   ]
  },
  {
   "cell_type": "code",
   "execution_count": 38,
   "metadata": {},
   "outputs": [],
   "source": [
    "df_before = df_final.loc[df_final['fixed_date'] < datetime.date(2019,11,1),:]\n",
    "df_after = df_final.loc[df_final['fixed_date'] >= datetime.date(2019,11,1),:]"
   ]
  },
  {
   "cell_type": "markdown",
   "metadata": {},
   "source": [
    "#### Split into train/test"
   ]
  },
  {
   "cell_type": "code",
   "execution_count": 39,
   "metadata": {},
   "outputs": [],
   "source": [
    "from sklearn.model_selection import train_test_split"
   ]
  },
  {
   "cell_type": "code",
   "execution_count": 40,
   "metadata": {},
   "outputs": [
    {
     "name": "stdout",
     "output_type": "stream",
     "text": [
      "(303, 11)\n",
      "(303,)\n"
     ]
    }
   ],
   "source": [
    "train_data = df_before.drop(columns=[\"count\",\"fixed_date\"]) #independent variables\n",
    "test_data = df_before['count'] #target variable\n",
    "\n",
    "print(train_data.shape)\n",
    "print(test_data.shape)"
   ]
  },
  {
   "cell_type": "code",
   "execution_count": 41,
   "metadata": {},
   "outputs": [],
   "source": [
    "X_train, X_test, Y_train, Y_test = train_test_split(train_data, test_data, test_size = 0.2, random_state = 42)"
   ]
  },
  {
   "cell_type": "markdown",
   "metadata": {},
   "source": [
    "# Different Machine Learning Models\n",
    "\n",
    "---"
   ]
  },
  {
   "cell_type": "markdown",
   "metadata": {},
   "source": [
    "### KNN"
   ]
  },
  {
   "cell_type": "code",
   "execution_count": 42,
   "metadata": {},
   "outputs": [
    {
     "name": "stdout",
     "output_type": "stream",
     "text": [
      "[0] K Nearest Neighbor Training Accuracy: 0.21487603305785125\n"
     ]
    }
   ],
   "source": [
    "# Using KNeighborsClassifier Method of neighbors class to use Nearest Neighbor algorithm\n",
    "from sklearn.neighbors import KNeighborsClassifier\n",
    "\n",
    "knn = KNeighborsClassifier(n_neighbors = 5, metric = 'minkowski', p = 2)\n",
    "knn.fit(X_train, Y_train)\n",
    "\n",
    "# print model accuracy on the training data.\n",
    "print('[0] K Nearest Neighbor Training Accuracy:', knn.score(X_train, Y_train))"
   ]
  },
  {
   "cell_type": "code",
   "execution_count": 43,
   "metadata": {},
   "outputs": [
    {
     "name": "stdout",
     "output_type": "stream",
     "text": [
      "126.16096925727238\n"
     ]
    }
   ],
   "source": [
    "Y_pred = knn.predict(X_test)\n",
    "result = (mean_squared_error(Y_test, Y_pred))**0.5\n",
    "print(result)"
   ]
  },
  {
   "cell_type": "markdown",
   "metadata": {},
   "source": [
    "### Logistic Regression"
   ]
  },
  {
   "cell_type": "code",
   "execution_count": 44,
   "metadata": {},
   "outputs": [
    {
     "name": "stdout",
     "output_type": "stream",
     "text": [
      "[1] Logistic Regression Training Accuracy: 0.5289256198347108\n"
     ]
    }
   ],
   "source": [
    "# Using Logistic Regression Algorithm to the Training Set\n",
    "from sklearn.linear_model import LogisticRegression\n",
    "  \n",
    "log = LogisticRegression(random_state = 42)\n",
    "log.fit(X_train, Y_train)\n",
    "\n",
    "# print model accuracy on the training data.\n",
    "print('[1] Logistic Regression Training Accuracy:', log.score(X_train, Y_train))"
   ]
  },
  {
   "cell_type": "code",
   "execution_count": 45,
   "metadata": {},
   "outputs": [
    {
     "name": "stdout",
     "output_type": "stream",
     "text": [
      "102.28624252477\n"
     ]
    }
   ],
   "source": [
    "Y_pred = log.predict(X_test)\n",
    "result = (mean_squared_error(Y_test, Y_pred))**0.5\n",
    "print(result)"
   ]
  },
  {
   "cell_type": "markdown",
   "metadata": {},
   "source": [
    "### SVC"
   ]
  },
  {
   "cell_type": "code",
   "execution_count": 46,
   "metadata": {},
   "outputs": [
    {
     "name": "stdout",
     "output_type": "stream",
     "text": [
      "[2] Support Vector Machine (Linear Classifier) Training Accuracy: 1.0\n"
     ]
    }
   ],
   "source": [
    "# Using SVC method of svm class to use Support Vector Machine Algorithm\n",
    "from sklearn.svm import SVC\n",
    "\n",
    "svc_lin = SVC(kernel = 'linear', random_state = 42)\n",
    "svc_lin.fit(X_train, Y_train)\n",
    "\n",
    "# print model accuracy on the training data.\n",
    "print('[2] Support Vector Machine (Linear Classifier) Training Accuracy:', svc_lin.score(X_train, Y_train))"
   ]
  },
  {
   "cell_type": "code",
   "execution_count": 47,
   "metadata": {},
   "outputs": [
    {
     "name": "stdout",
     "output_type": "stream",
     "text": [
      "106.70066910233153\n"
     ]
    }
   ],
   "source": [
    "Y_pred = svc_lin.predict(X_test)\n",
    "result = (mean_squared_error(Y_test, Y_pred))**0.5\n",
    "print(result)"
   ]
  },
  {
   "cell_type": "markdown",
   "metadata": {},
   "source": [
    "### GaussianNB "
   ]
  },
  {
   "cell_type": "code",
   "execution_count": 48,
   "metadata": {},
   "outputs": [
    {
     "name": "stdout",
     "output_type": "stream",
     "text": [
      "[3] Gaussian Naive Bayes Training Accuracy: 0.7479338842975206\n"
     ]
    }
   ],
   "source": [
    "# Using GaussianNB method of naïve_bayes class to use Naïve Bayes Algorithm\n",
    "from sklearn.naive_bayes import GaussianNB\n",
    "\n",
    "gauss = GaussianNB()\n",
    "gauss.fit(X_train, Y_train)\n",
    "\n",
    "# print model accuracy on the training data.\n",
    "print('[3] Gaussian Naive Bayes Training Accuracy:', gauss.score(X_train, Y_train))"
   ]
  },
  {
   "cell_type": "code",
   "execution_count": 49,
   "metadata": {},
   "outputs": [
    {
     "name": "stdout",
     "output_type": "stream",
     "text": [
      "82.79542238078815\n"
     ]
    }
   ],
   "source": [
    "Y_pred = gauss.predict(X_test)\n",
    "result = (mean_squared_error(Y_test, Y_pred))**0.5\n",
    "print(result)"
   ]
  },
  {
   "cell_type": "markdown",
   "metadata": {},
   "source": [
    "### DecisionTreeClassifier "
   ]
  },
  {
   "cell_type": "code",
   "execution_count": 50,
   "metadata": {},
   "outputs": [
    {
     "name": "stdout",
     "output_type": "stream",
     "text": [
      "[4] Decision Tree Classifier Training Accuracy: 1.0\n"
     ]
    }
   ],
   "source": [
    "# Using DecisionTreeClassifier of tree class to use Decision Tree Algorithm\n",
    "from sklearn.tree import DecisionTreeClassifier\n",
    "\n",
    "tree = DecisionTreeClassifier(criterion = 'entropy', random_state = 42)\n",
    "tree.fit(X_train, Y_train)\n",
    "\n",
    "# print model accuracy on the training data.\n",
    "print('[4] Decision Tree Classifier Training Accuracy:', tree.score(X_train, Y_train))"
   ]
  },
  {
   "cell_type": "code",
   "execution_count": 51,
   "metadata": {},
   "outputs": [
    {
     "name": "stdout",
     "output_type": "stream",
     "text": [
      "65.34185011957635\n"
     ]
    }
   ],
   "source": [
    "Y_pred = tree.predict(X_test)\n",
    "result = (mean_squared_error(Y_test, Y_pred))**0.5\n",
    "print(result)"
   ]
  },
  {
   "cell_type": "markdown",
   "metadata": {},
   "source": [
    "### RandomForestClassifier "
   ]
  },
  {
   "cell_type": "code",
   "execution_count": 52,
   "metadata": {},
   "outputs": [
    {
     "name": "stdout",
     "output_type": "stream",
     "text": [
      "[5] Random Forest Classifier Training Accuracy: 0.987603305785124\n"
     ]
    }
   ],
   "source": [
    "# Using RandomForestClassifier method of ensemble class to use Random Forest Classification algorithm\n",
    "from sklearn.ensemble import RandomForestClassifier\n",
    "\n",
    "forest = RandomForestClassifier(n_estimators = 10, criterion = 'entropy', random_state = 42)\n",
    "forest.fit(X_train, Y_train)\n",
    "\n",
    "# print model accuracy on the training data.\n",
    "print('[5] Random Forest Classifier Training Accuracy:', forest.score(X_train, Y_train))"
   ]
  },
  {
   "cell_type": "code",
   "execution_count": 53,
   "metadata": {},
   "outputs": [
    {
     "name": "stdout",
     "output_type": "stream",
     "text": [
      "89.72371070288546\n"
     ]
    }
   ],
   "source": [
    "Y_pred = forest.predict(X_test)\n",
    "result = (mean_squared_error(Y_test, Y_pred))**0.5\n",
    "print(result)"
   ]
  },
  {
   "cell_type": "markdown",
   "metadata": {},
   "source": [
    "# Submission file\n",
    "\n",
    "Data from 11-01-2019 to 31-01-2020 (92 days)\n",
    "\n",
    "---"
   ]
  },
  {
   "cell_type": "code",
   "execution_count": 54,
   "metadata": {},
   "outputs": [],
   "source": [
    "sample_sub = pd.read_csv((\"/Users/wolfsinem/flick_data/sampleSubmission.csv\"))"
   ]
  },
  {
   "cell_type": "code",
   "execution_count": 55,
   "metadata": {},
   "outputs": [],
   "source": [
    "# tree = DecisionTreeClassifier(criterion = 'entropy', random_state = 42)\n",
    "# training = tree.fit(X_train,Y_train)\n",
    "# prediction = tree.predict(forecasting_df) # features\n",
    "\n",
    "# log = LogisticRegression(random_state = 42)\n",
    "# training = log.fit(X_train,Y_train)\n",
    "# prediction = log.predict(forecasting_df)\n",
    "\n",
    "forest = RandomForestClassifier(n_estimators = 10, criterion = 'entropy', random_state = 42)\n",
    "forest.fit(X_train, Y_train)\n",
    "prediction = forest.predict(forecasting_df)\n",
    "\n",
    "sample_sub['Predicted'] = prediction\n",
    "# sample_sub.to_csv('submission_tree_2.csv',index=False)"
   ]
  },
  {
   "cell_type": "code",
   "execution_count": 56,
   "metadata": {
    "scrolled": true
   },
   "outputs": [],
   "source": [
    "# result = (mean_squared_error(Y_train, prediction))**0.5\n",
    "# print(result)"
   ]
  },
  {
   "cell_type": "code",
   "execution_count": 60,
   "metadata": {},
   "outputs": [
    {
     "data": {
      "text/plain": [
       "array([304,   4,   4,  90,  10,  25,  25,  25,  15,   4, 304,  10,  25,\n",
       "        82,   3,  22,  22,  10,  15,  15,  82,  82,  25, 304,  25,  90,\n",
       "         4,   4,  15,   4,  82,  78,  22,   4,  82,  90,   4,   4,  25,\n",
       "        22,  25,  22,   4,  25,  25,  90,  11,  25,  90,   4,  25,  90,\n",
       "        25,  90,  25,  25,  22,  82,  22,  83,  15,   4, 106,  25,  10,\n",
       "        25,  25,  25,  90, 177,   4, 106,  25,  25,  11,   4,  25,  25,\n",
       "         4,   4,  82,  82, 106,   4,   4,   4,  26,  25,  25,  25,  90,\n",
       "         4])"
      ]
     },
     "execution_count": 60,
     "metadata": {},
     "output_type": "execute_result"
    }
   ],
   "source": [
    "prediction"
   ]
  },
  {
   "cell_type": "code",
   "execution_count": 58,
   "metadata": {},
   "outputs": [
    {
     "data": {
      "text/html": [
       "<div>\n",
       "<style scoped>\n",
       "    .dataframe tbody tr th:only-of-type {\n",
       "        vertical-align: middle;\n",
       "    }\n",
       "\n",
       "    .dataframe tbody tr th {\n",
       "        vertical-align: top;\n",
       "    }\n",
       "\n",
       "    .dataframe thead th {\n",
       "        text-align: right;\n",
       "    }\n",
       "</style>\n",
       "<table border=\"1\" class=\"dataframe\">\n",
       "  <thead>\n",
       "    <tr style=\"text-align: right;\">\n",
       "      <th></th>\n",
       "      <th>id</th>\n",
       "      <th>Predicted</th>\n",
       "    </tr>\n",
       "  </thead>\n",
       "  <tbody>\n",
       "    <tr>\n",
       "      <th>0</th>\n",
       "      <td>20191101</td>\n",
       "      <td>304</td>\n",
       "    </tr>\n",
       "    <tr>\n",
       "      <th>1</th>\n",
       "      <td>20191102</td>\n",
       "      <td>4</td>\n",
       "    </tr>\n",
       "    <tr>\n",
       "      <th>2</th>\n",
       "      <td>20191103</td>\n",
       "      <td>4</td>\n",
       "    </tr>\n",
       "    <tr>\n",
       "      <th>3</th>\n",
       "      <td>20191104</td>\n",
       "      <td>90</td>\n",
       "    </tr>\n",
       "    <tr>\n",
       "      <th>4</th>\n",
       "      <td>20191105</td>\n",
       "      <td>10</td>\n",
       "    </tr>\n",
       "    <tr>\n",
       "      <th>...</th>\n",
       "      <td>...</td>\n",
       "      <td>...</td>\n",
       "    </tr>\n",
       "    <tr>\n",
       "      <th>87</th>\n",
       "      <td>20200127</td>\n",
       "      <td>25</td>\n",
       "    </tr>\n",
       "    <tr>\n",
       "      <th>88</th>\n",
       "      <td>20200128</td>\n",
       "      <td>25</td>\n",
       "    </tr>\n",
       "    <tr>\n",
       "      <th>89</th>\n",
       "      <td>20200129</td>\n",
       "      <td>25</td>\n",
       "    </tr>\n",
       "    <tr>\n",
       "      <th>90</th>\n",
       "      <td>20200130</td>\n",
       "      <td>90</td>\n",
       "    </tr>\n",
       "    <tr>\n",
       "      <th>91</th>\n",
       "      <td>20200131</td>\n",
       "      <td>4</td>\n",
       "    </tr>\n",
       "  </tbody>\n",
       "</table>\n",
       "<p>92 rows × 2 columns</p>\n",
       "</div>"
      ],
      "text/plain": [
       "          id  Predicted\n",
       "0   20191101        304\n",
       "1   20191102          4\n",
       "2   20191103          4\n",
       "3   20191104         90\n",
       "4   20191105         10\n",
       "..       ...        ...\n",
       "87  20200127         25\n",
       "88  20200128         25\n",
       "89  20200129         25\n",
       "90  20200130         90\n",
       "91  20200131          4\n",
       "\n",
       "[92 rows x 2 columns]"
      ]
     },
     "execution_count": 58,
     "metadata": {},
     "output_type": "execute_result"
    }
   ],
   "source": [
    "sample_sub"
   ]
  }
 ],
 "metadata": {
  "kernelspec": {
   "display_name": "Python 3.8.0 64-bit",
   "language": "python",
   "name": "python38064bit159108b3a1084e30bae43b4afa6f96dc"
  },
  "language_info": {
   "codemirror_mode": {
    "name": "ipython",
    "version": 3
   },
   "file_extension": ".py",
   "mimetype": "text/x-python",
   "name": "python",
   "nbconvert_exporter": "python",
   "pygments_lexer": "ipython3",
   "version": "3.8.0"
  }
 },
 "nbformat": 4,
 "nbformat_minor": 2
}
